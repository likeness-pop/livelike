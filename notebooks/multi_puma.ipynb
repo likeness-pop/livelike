{
 "cells": [
  {
   "cell_type": "markdown",
   "id": "83603377",
   "metadata": {},
   "source": [
    "# Livelike Basic Usage Demo: Multiple PUMAs\n",
    "\n",
    "- ACS 2014 - 2019 5-Year Estimates\n",
    "- UP Baseline Constraints: employment, industry, occupation, education\n",
    "- Knox County, TN"
   ]
  },
  {
   "cell_type": "markdown",
   "id": "31c8adc1",
   "metadata": {},
   "source": [
    "## Setup"
   ]
  },
  {
   "cell_type": "code",
   "execution_count": 1,
   "id": "2a2e909a",
   "metadata": {
    "execution": {
     "iopub.execute_input": "2025-01-31T14:50:17.956409Z",
     "iopub.status.busy": "2025-01-31T14:50:17.955905Z",
     "iopub.status.idle": "2025-01-31T14:50:17.983844Z",
     "shell.execute_reply": "2025-01-31T14:50:17.983361Z",
     "shell.execute_reply.started": "2025-01-31T14:50:17.956375Z"
    }
   },
   "outputs": [
    {
     "name": "stdout",
     "output_type": "stream",
     "text": [
      "Last updated: 2025-01-31T09:50:17.972502-05:00\n",
      "\n",
      "Python implementation: CPython\n",
      "Python version       : 3.12.8\n",
      "IPython version      : 8.31.0\n",
      "\n",
      "Compiler    : Clang 18.1.8 \n",
      "OS          : Darwin\n",
      "Release     : 24.3.0\n",
      "Machine     : arm64\n",
      "Processor   : arm\n",
      "CPU cores   : 16\n",
      "Architecture: 64bit\n",
      "\n"
     ]
    }
   ],
   "source": [
    "%load_ext watermark\n",
    "%watermark"
   ]
  },
  {
   "cell_type": "code",
   "execution_count": 2,
   "id": "cdc254a9",
   "metadata": {
    "ExecuteTime": {
     "end_time": "2022-09-27T21:03:27.801659Z",
     "start_time": "2022-09-27T21:03:22.089207Z"
    },
    "execution": {
     "iopub.execute_input": "2025-01-31T14:50:17.984878Z",
     "iopub.status.busy": "2025-01-31T14:50:17.984589Z",
     "iopub.status.idle": "2025-01-31T14:50:19.141818Z",
     "shell.execute_reply": "2025-01-31T14:50:19.141572Z",
     "shell.execute_reply.started": "2025-01-31T14:50:17.984858Z"
    }
   },
   "outputs": [
    {
     "name": "stderr",
     "output_type": "stream",
     "text": [
      "/Users/41q/gitlab_repos/likeness/likeness-vitals/likeness_vitals/__init__.py:12: FutureWarning: The ``likeness-vitals`` package is transitioning to a modular API for a cleaner top-level namespace. Classes, functions, and attributes that are currently available in the top-level will only be available within their home modules. Both the current and the updated API will be in place for at least two minor releases following the inclusion of this warning. The release at the time of this warning inclusion was ``v1.3.0``, so the current API will be stable until ``v1.5.0`` at the soonest, and the ``v2.0.0`` release will be the absolute deadline. See [https://code.ornl.gov/likeness/likeness-vitals/-/issues/32] for details on how to update dependant packages.\n",
      "  warnings.warn(\n"
     ]
    },
    {
     "name": "stdout",
     "output_type": "stream",
     "text": [
      "Watermark: 2.5.0\n",
      "\n",
      "numpy          : 2.0.2\n",
      "likeness_vitals: 1.4.3.dev6+g2e663aa\n",
      "pymedm         : 2.1.1.dev4+g785edf4\n",
      "pandas         : 2.2.3\n",
      "livelike       : 1.4.2\n",
      "\n"
     ]
    }
   ],
   "source": [
    "import pathlib\n",
    "\n",
    "import numpy as np\n",
    "import pandas as pd\n",
    "from likeness_vitals.vitals import get_censusapikey\n",
    "from pymedm import batch, diagnostics\n",
    "\n",
    "from livelike import multi\n",
    "\n",
    "%watermark -w\n",
    "%watermark -iv"
   ]
  },
  {
   "cell_type": "markdown",
   "id": "19bef2c0-4365-4899-abe2-e727c1dfa117",
   "metadata": {
    "ExecuteTime": {
     "end_time": "2022-09-27T21:03:27.807514Z",
     "start_time": "2022-09-27T21:03:27.804550Z"
    },
    "scrolled": true
   },
   "source": [
    "### Read Census API Key"
   ]
  },
  {
   "cell_type": "code",
   "execution_count": 3,
   "id": "82cf6528-bdfe-401f-8d8d-47f3b338b112",
   "metadata": {
    "ExecuteTime": {
     "end_time": "2022-09-27T21:03:27.807514Z",
     "start_time": "2022-09-27T21:03:27.804550Z"
    },
    "execution": {
     "iopub.execute_input": "2025-01-31T14:50:19.142385Z",
     "iopub.status.busy": "2025-01-31T14:50:19.142294Z",
     "iopub.status.idle": "2025-01-31T14:50:19.144123Z",
     "shell.execute_reply": "2025-01-31T14:50:19.143916Z",
     "shell.execute_reply.started": "2025-01-31T14:50:19.142376Z"
    },
    "scrolled": true
   },
   "outputs": [],
   "source": [
    "key = get_censusapikey(pathlib.Path(\"..\", \"\"))"
   ]
  },
  {
   "cell_type": "markdown",
   "id": "e6ef2abb",
   "metadata": {},
   "source": [
    "### Create baseline PUMA representation\n",
    "\n",
    "The `puma` class stores a representation of the PUMA based on ACS constraints. It contains the microdata and block group/tract estimates and standard errors required for P-MEDM.\n",
    "\n",
    "#### Target PUMAs: Knox County"
   ]
  },
  {
   "cell_type": "code",
   "execution_count": 4,
   "id": "71b6be6f-b9b9-4d50-8986-d7e91f0952f2",
   "metadata": {
    "ExecuteTime": {
     "end_time": "2022-09-27T21:03:27.878515Z",
     "start_time": "2022-09-27T21:03:27.870511Z"
    },
    "execution": {
     "iopub.execute_input": "2025-01-31T14:50:19.144527Z",
     "iopub.status.busy": "2025-01-31T14:50:19.144459Z",
     "iopub.status.idle": "2025-01-31T14:50:19.146032Z",
     "shell.execute_reply": "2025-01-31T14:50:19.145816Z",
     "shell.execute_reply.started": "2025-01-31T14:50:19.144518Z"
    }
   },
   "outputs": [],
   "source": [
    "pumas = [\"4701602\", \"4701603\", \"4701604\"]"
   ]
  },
  {
   "cell_type": "markdown",
   "id": "25dc61bd-bdb6-45c5-be77-fc476c364c67",
   "metadata": {
    "ExecuteTime": {
     "end_time": "2022-09-27T21:04:31.349480Z",
     "start_time": "2022-09-27T21:03:27.879781Z"
    }
   },
   "source": [
    "##### Create PUMA objects for AOI (takes a few minutes)"
   ]
  },
  {
   "cell_type": "code",
   "execution_count": 5,
   "id": "2c21ece6-bff7-46b7-be21-bebe8d3b6386",
   "metadata": {
    "ExecuteTime": {
     "end_time": "2022-09-27T21:04:31.349480Z",
     "start_time": "2022-09-27T21:03:27.879781Z"
    },
    "execution": {
     "iopub.execute_input": "2025-01-31T14:50:19.146474Z",
     "iopub.status.busy": "2025-01-31T14:50:19.146409Z",
     "iopub.status.idle": "2025-01-31T14:51:27.853909Z",
     "shell.execute_reply": "2025-01-31T14:51:27.853406Z",
     "shell.execute_reply.started": "2025-01-31T14:50:19.146466Z"
    }
   },
   "outputs": [],
   "source": [
    "mpu = multi.make_pumas(pumas, censusapikey=key)"
   ]
  },
  {
   "cell_type": "markdown",
   "id": "04271ece",
   "metadata": {},
   "source": [
    "## Spatial Allocation with P-MEDM"
   ]
  },
  {
   "cell_type": "markdown",
   "id": "b4a6c26a",
   "metadata": {},
   "source": [
    "### Create P-MEDM object"
   ]
  },
  {
   "cell_type": "markdown",
   "id": "1e3c1381",
   "metadata": {},
   "source": [
    "The batch solver (`pymedm.batch.batch_solve()`) converts PUMAs to P-MEDM problems and solves them multi-threaded.\n",
    "\n",
    "**Inputs (under the hood):**\n",
    "\n",
    "- ACS vintage year.\n",
    "- The PUMS household response serial numbers (`serial`).\n",
    "- The PUMS household sample weights (`wt`)\n",
    "- Individual-level constraints (`est_ind`)\n",
    "- Tract and block group level constraints (`est_trt`, `est_bg`)\n",
    "- Tract and block group level standard errors (`se_trt`, `se_bg`)"
   ]
  },
  {
   "cell_type": "code",
   "execution_count": 6,
   "id": "88c284a9",
   "metadata": {
    "ExecuteTime": {
     "end_time": "2022-09-27T21:07:12.905916Z",
     "start_time": "2022-09-27T21:04:31.351504Z"
    },
    "execution": {
     "iopub.execute_input": "2025-01-31T14:51:27.856145Z",
     "iopub.status.busy": "2025-01-31T14:51:27.855963Z",
     "iopub.status.idle": "2025-01-31T14:52:29.922000Z",
     "shell.execute_reply": "2025-01-31T14:52:29.921636Z",
     "shell.execute_reply.started": "2025-01-31T14:51:27.856127Z"
    }
   },
   "outputs": [],
   "source": [
    "pmds = batch.batch_solve(mpu)"
   ]
  },
  {
   "cell_type": "code",
   "execution_count": 7,
   "id": "f4545854-dd65-4af1-b455-fe6f39b6db69",
   "metadata": {
    "execution": {
     "iopub.execute_input": "2025-01-31T14:52:29.922439Z",
     "iopub.status.busy": "2025-01-31T14:52:29.922334Z",
     "iopub.status.idle": "2025-01-31T14:52:29.924424Z",
     "shell.execute_reply": "2025-01-31T14:52:29.924193Z",
     "shell.execute_reply.started": "2025-01-31T14:52:29.922431Z"
    }
   },
   "outputs": [
    {
     "name": "stdout",
     "output_type": "stream",
     "text": [
      "puma='4701602': -1.2538384403196665\n",
      "puma='4701603': -1.5199570129609192\n",
      "puma='4701604': -1.2547039409778815\n"
     ]
    }
   ],
   "source": [
    "# objective values\n",
    "for puma, pmd in pmds.items():\n",
    "    print(f\"{puma=}: {pmd.res.state.value}\")"
   ]
  },
  {
   "cell_type": "markdown",
   "id": "5e9c94d0",
   "metadata": {},
   "source": [
    "### Diagnostics\n",
    "\n",
    "As a quick diagnostic, we measure the proportion of synthetic constraint estimates fitting the ACS 90% margins of error (MOEs), or the `moe_fit_rate`:"
   ]
  },
  {
   "cell_type": "code",
   "execution_count": 8,
   "id": "da70b0f2",
   "metadata": {
    "ExecuteTime": {
     "end_time": "2022-09-27T21:07:13.575978Z",
     "start_time": "2022-09-27T21:07:12.909201Z"
    },
    "execution": {
     "iopub.execute_input": "2025-01-31T14:52:29.924754Z",
     "iopub.status.busy": "2025-01-31T14:52:29.924689Z",
     "iopub.status.idle": "2025-01-31T14:52:30.185272Z",
     "shell.execute_reply": "2025-01-31T14:52:30.185018Z",
     "shell.execute_reply.started": "2025-01-31T14:52:29.924748Z"
    }
   },
   "outputs": [
    {
     "name": "stdout",
     "output_type": "stream",
     "text": [
      "PUMA 4701602: 0.9996\n",
      "PUMA 4701603: 0.9997\n",
      "PUMA 4701604: 0.9999\n"
     ]
    }
   ],
   "source": [
    "for p in pumas:\n",
    "    mfr = diagnostics.moe_fit_rate(\n",
    "        mpu[p].est_ind, mpu[p].est_g2, mpu[p].se_g2, pmds[p].almat\n",
    "    )\n",
    "    print(f\"PUMA {p}: {str(np.round(mfr['moe_fit_rate'], 4))}\")"
   ]
  },
  {
   "cell_type": "markdown",
   "id": "9dc14fdc",
   "metadata": {},
   "source": [
    "## Population Synthesis\n",
    "\n",
    "Use Lovelace and Ballas' (2013) \"Truncate, Replicate, Sample\" method to create 30 realizations of the residential synthetic population:"
   ]
  },
  {
   "cell_type": "code",
   "execution_count": 9,
   "id": "54f915a8",
   "metadata": {
    "ExecuteTime": {
     "end_time": "2022-09-27T21:07:24.737496Z",
     "start_time": "2022-09-27T21:07:13.577979Z"
    },
    "execution": {
     "iopub.execute_input": "2025-01-31T14:52:30.185811Z",
     "iopub.status.busy": "2025-01-31T14:52:30.185733Z",
     "iopub.status.idle": "2025-01-31T14:52:52.076416Z",
     "shell.execute_reply": "2025-01-31T14:52:52.076163Z",
     "shell.execute_reply.started": "2025-01-31T14:52:30.185805Z"
    }
   },
   "outputs": [
    {
     "data": {
      "text/html": [
       "<div>\n",
       "<style scoped>\n",
       "    .dataframe tbody tr th:only-of-type {\n",
       "        vertical-align: middle;\n",
       "    }\n",
       "\n",
       "    .dataframe tbody tr th {\n",
       "        vertical-align: top;\n",
       "    }\n",
       "\n",
       "    .dataframe thead th {\n",
       "        text-align: right;\n",
       "    }\n",
       "</style>\n",
       "<table border=\"1\" class=\"dataframe\">\n",
       "  <thead>\n",
       "    <tr style=\"text-align: right;\">\n",
       "      <th></th>\n",
       "      <th>sim</th>\n",
       "      <th>geoid</th>\n",
       "      <th>count</th>\n",
       "      <th>replicate</th>\n",
       "    </tr>\n",
       "    <tr>\n",
       "      <th>h_id</th>\n",
       "      <th></th>\n",
       "      <th></th>\n",
       "      <th></th>\n",
       "      <th></th>\n",
       "    </tr>\n",
       "  </thead>\n",
       "  <tbody>\n",
       "    <tr>\n",
       "      <th>2015000004223</th>\n",
       "      <td>0</td>\n",
       "      <td>470930049001</td>\n",
       "      <td>1</td>\n",
       "      <td>4701602</td>\n",
       "    </tr>\n",
       "    <tr>\n",
       "      <th>2015000050612</th>\n",
       "      <td>0</td>\n",
       "      <td>470930049001</td>\n",
       "      <td>1</td>\n",
       "      <td>4701602</td>\n",
       "    </tr>\n",
       "    <tr>\n",
       "      <th>2015000064675</th>\n",
       "      <td>0</td>\n",
       "      <td>470930049001</td>\n",
       "      <td>1</td>\n",
       "      <td>4701602</td>\n",
       "    </tr>\n",
       "    <tr>\n",
       "      <th>2015000067973</th>\n",
       "      <td>0</td>\n",
       "      <td>470930049001</td>\n",
       "      <td>3</td>\n",
       "      <td>4701602</td>\n",
       "    </tr>\n",
       "    <tr>\n",
       "      <th>2015000075394</th>\n",
       "      <td>0</td>\n",
       "      <td>470930049001</td>\n",
       "      <td>1</td>\n",
       "      <td>4701602</td>\n",
       "    </tr>\n",
       "    <tr>\n",
       "      <th>...</th>\n",
       "      <td>...</td>\n",
       "      <td>...</td>\n",
       "      <td>...</td>\n",
       "      <td>...</td>\n",
       "    </tr>\n",
       "    <tr>\n",
       "      <th>2019HU1396194</th>\n",
       "      <td>29</td>\n",
       "      <td>470930060032</td>\n",
       "      <td>9</td>\n",
       "      <td>4701604</td>\n",
       "    </tr>\n",
       "    <tr>\n",
       "      <th>2019HU1397336</th>\n",
       "      <td>29</td>\n",
       "      <td>470930060032</td>\n",
       "      <td>1</td>\n",
       "      <td>4701604</td>\n",
       "    </tr>\n",
       "    <tr>\n",
       "      <th>2019HU1405831</th>\n",
       "      <td>29</td>\n",
       "      <td>470930060032</td>\n",
       "      <td>1</td>\n",
       "      <td>4701604</td>\n",
       "    </tr>\n",
       "    <tr>\n",
       "      <th>2019HU1406178</th>\n",
       "      <td>29</td>\n",
       "      <td>470930060032</td>\n",
       "      <td>2</td>\n",
       "      <td>4701604</td>\n",
       "    </tr>\n",
       "    <tr>\n",
       "      <th>2019HU1406605</th>\n",
       "      <td>29</td>\n",
       "      <td>470930060032</td>\n",
       "      <td>1</td>\n",
       "      <td>4701604</td>\n",
       "    </tr>\n",
       "  </tbody>\n",
       "</table>\n",
       "<p>4117981 rows × 4 columns</p>\n",
       "</div>"
      ],
      "text/plain": [
       "               sim         geoid  count replicate\n",
       "h_id                                             \n",
       "2015000004223    0  470930049001      1   4701602\n",
       "2015000050612    0  470930049001      1   4701602\n",
       "2015000064675    0  470930049001      1   4701602\n",
       "2015000067973    0  470930049001      3   4701602\n",
       "2015000075394    0  470930049001      1   4701602\n",
       "...            ...           ...    ...       ...\n",
       "2019HU1396194   29  470930060032      9   4701604\n",
       "2019HU1397336   29  470930060032      1   4701604\n",
       "2019HU1405831   29  470930060032      1   4701604\n",
       "2019HU1406178   29  470930060032      2   4701604\n",
       "2019HU1406605   29  470930060032      1   4701604\n",
       "\n",
       "[4117981 rows x 4 columns]"
      ]
     },
     "execution_count": 9,
     "metadata": {},
     "output_type": "execute_result"
    }
   ],
   "source": [
    "hs = multi.synthesize_multi(mpu, pmds)\n",
    "hs"
   ]
  }
 ],
 "metadata": {
  "kernelspec": {
   "display_name": "Python 3 (ipykernel)",
   "language": "python",
   "name": "python3"
  },
  "language_info": {
   "codemirror_mode": {
    "name": "ipython",
    "version": 3
   },
   "file_extension": ".py",
   "mimetype": "text/x-python",
   "name": "python",
   "nbconvert_exporter": "python",
   "pygments_lexer": "ipython3",
   "version": "3.12.8"
  }
 },
 "nbformat": 4,
 "nbformat_minor": 5
}
