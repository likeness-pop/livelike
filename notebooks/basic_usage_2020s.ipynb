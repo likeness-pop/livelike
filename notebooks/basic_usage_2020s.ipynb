{
 "cells": [
  {
   "cell_type": "markdown",
   "id": "83603377",
   "metadata": {},
   "source": [
    "# Livelike Basic Usage Demo"
   ]
  },
  {
   "cell_type": "markdown",
   "id": "d6b9c2ac",
   "metadata": {
    "ExecuteTime": {
     "end_time": "2021-12-21T22:00:33.802859Z",
     "start_time": "2021-12-21T22:00:33.787329Z"
    }
   },
   "source": [
    "- ACS 2019 - 2023 5-Year Estimates\n",
    "- UP Baseline Constraints: employment, industry, occupation, education\n",
    "- Knoxville City Central, TN PUMA (`4701501`)"
   ]
  },
  {
   "cell_type": "markdown",
   "id": "31c8adc1",
   "metadata": {},
   "source": [
    "## Setup"
   ]
  },
  {
   "cell_type": "code",
   "execution_count": 1,
   "id": "2860fed8-dbc4-41f0-8ca8-e6ced1895cc1",
   "metadata": {
    "execution": {
     "iopub.execute_input": "2025-01-31T14:55:48.590259Z",
     "iopub.status.busy": "2025-01-31T14:55:48.589944Z",
     "iopub.status.idle": "2025-01-31T14:55:48.609723Z",
     "shell.execute_reply": "2025-01-31T14:55:48.609359Z",
     "shell.execute_reply.started": "2025-01-31T14:55:48.590236Z"
    }
   },
   "outputs": [
    {
     "name": "stdout",
     "output_type": "stream",
     "text": [
      "Last updated: 2025-03-20T14:44:29.562195-04:00\n",
      "\n",
      "Python implementation: CPython\n",
      "Python version       : 3.12.9\n",
      "IPython version      : 9.0.2\n",
      "\n",
      "Compiler    : Clang 18.1.8 \n",
      "OS          : Darwin\n",
      "Release     : 24.3.0\n",
      "Machine     : arm64\n",
      "Processor   : arm\n",
      "CPU cores   : 8\n",
      "Architecture: 64bit\n",
      "\n"
     ]
    }
   ],
   "source": [
    "%load_ext watermark\n",
    "%watermark"
   ]
  },
  {
   "cell_type": "code",
   "execution_count": 2,
   "id": "cdc254a9",
   "metadata": {
    "ExecuteTime": {
     "end_time": "2023-01-04T18:48:44.030501Z",
     "start_time": "2023-01-04T18:48:33.207636Z"
    },
    "execution": {
     "iopub.execute_input": "2025-01-31T14:55:48.610489Z",
     "iopub.status.busy": "2025-01-31T14:55:48.610370Z",
     "iopub.status.idle": "2025-01-31T14:55:49.788217Z",
     "shell.execute_reply": "2025-01-31T14:55:49.787920Z",
     "shell.execute_reply.started": "2025-01-31T14:55:48.610476Z"
    }
   },
   "outputs": [
    {
     "name": "stdout",
     "output_type": "stream",
     "text": [
      "Watermark: 2.5.0\n",
      "\n",
      "geopandas      : 1.0.1\n",
      "numpy          : 2.2.4\n",
      "pymedm         : 2.2.3\n",
      "pandas         : 2.2.3\n",
      "livelike       : 1.4.8.dev3+geea70e8\n",
      "likeness_vitals: 0.1.dev3+g2392110.d20250320\n",
      "\n"
     ]
    }
   ],
   "source": [
    "import pathlib\n",
    "\n",
    "import geopandas as gpd\n",
    "import numpy as np\n",
    "import pandas as pd\n",
    "from likeness_vitals.vitals import get_censusapikey, match\n",
    "from pymedm import PMEDM, diagnostics\n",
    "\n",
    "from livelike import acs, est, homesim\n",
    "\n",
    "%watermark -w\n",
    "%watermark -iv"
   ]
  },
  {
   "cell_type": "markdown",
   "id": "3ff9656b-6b00-485a-9701-99fab62c4d1e",
   "metadata": {
    "ExecuteTime": {
     "end_time": "2023-01-04T18:48:44.033380Z",
     "start_time": "2023-01-04T18:48:44.031466Z"
    },
    "scrolled": true
   },
   "source": [
    "### Read Census API Key"
   ]
  },
  {
   "cell_type": "code",
   "execution_count": 3,
   "id": "c518ce3c-0045-4aa2-a73f-fd7a7314e840",
   "metadata": {
    "ExecuteTime": {
     "end_time": "2023-01-04T18:48:44.033380Z",
     "start_time": "2023-01-04T18:48:44.031466Z"
    },
    "execution": {
     "iopub.execute_input": "2025-01-31T14:55:49.788667Z",
     "iopub.status.busy": "2025-01-31T14:55:49.788592Z",
     "iopub.status.idle": "2025-01-31T14:55:49.790419Z",
     "shell.execute_reply": "2025-01-31T14:55:49.790212Z",
     "shell.execute_reply.started": "2025-01-31T14:55:49.788657Z"
    },
    "scrolled": true
   },
   "outputs": [],
   "source": [
    "key = get_censusapikey(pathlib.Path(\"..\", \"\"))"
   ]
  },
  {
   "cell_type": "markdown",
   "id": "e6ef2abb",
   "metadata": {},
   "source": [
    "### Create baseline PUMA representation\n",
    "\n",
    "The `puma` class stores a representation of the PUMA based on ACS constraints. It contains the microdata and block group/tract estimates and standard errors required for P-MEDM.\n",
    "\n",
    "#### Target PUMA - Knoxville City Central, TN"
   ]
  },
  {
   "cell_type": "code",
   "execution_count": 4,
   "id": "779c68cc-bc16-4ece-b516-818b306a82f8",
   "metadata": {
    "ExecuteTime": {
     "end_time": "2023-01-04T18:48:44.050887Z",
     "start_time": "2023-01-04T18:48:44.049434Z"
    },
    "execution": {
     "iopub.execute_input": "2025-01-31T14:55:49.790751Z",
     "iopub.status.busy": "2025-01-31T14:55:49.790684Z",
     "iopub.status.idle": "2025-01-31T14:55:49.792290Z",
     "shell.execute_reply": "2025-01-31T14:55:49.792110Z",
     "shell.execute_reply.started": "2025-01-31T14:55:49.790742Z"
    }
   },
   "outputs": [],
   "source": [
    "p = \"4701501\""
   ]
  },
  {
   "cell_type": "markdown",
   "id": "8399b5ff-ef4b-4ead-b1b9-be21532a45bf",
   "metadata": {
    "ExecuteTime": {
     "end_time": "2023-01-04T18:49:16.184021Z",
     "start_time": "2023-01-04T18:48:44.051706Z"
    }
   },
   "source": [
    "##### Create baseline PUMA representation"
   ]
  },
  {
   "cell_type": "code",
   "execution_count": 5,
   "id": "f4435a45-46f0-49c0-abc3-94b208a6c4f9",
   "metadata": {
    "ExecuteTime": {
     "end_time": "2023-01-04T18:49:16.184021Z",
     "start_time": "2023-01-04T18:48:44.051706Z"
    },
    "execution": {
     "iopub.execute_input": "2025-01-31T14:55:49.792753Z",
     "iopub.status.busy": "2025-01-31T14:55:49.792639Z",
     "iopub.status.idle": "2025-01-31T14:56:12.716367Z",
     "shell.execute_reply": "2025-01-31T14:56:12.715806Z",
     "shell.execute_reply.started": "2025-01-31T14:55:49.792745Z"
    }
   },
   "outputs": [],
   "source": [
    "# recommend enabling ``cache`` for 2023+\n",
    "pup = acs.puma(p, year=2023, censusapikey=key, cache=True)"
   ]
  },
  {
   "cell_type": "markdown",
   "id": "1e3c1381",
   "metadata": {},
   "source": [
    "## Spatial Allocation with P-MEDM\n",
    "\n",
    "### Create P-MEDM object\n",
    "\n",
    "**Inputs:**\n",
    "\n",
    "- ACS vintage year.\n",
    "- The PUMS household response serial numbers (`serial`).\n",
    "- The PUMS household sample weights (`wt`)\n",
    "- Individual-level constraints (`est_ind`)\n",
    "- Tract and block group level constraints (`est_trt`, `est_bg`)\n",
    "- Tract and block group level standard errors (`se_trt`, `se_bg`)"
   ]
  },
  {
   "cell_type": "code",
   "execution_count": 6,
   "id": "0e9df05d",
   "metadata": {
    "ExecuteTime": {
     "end_time": "2023-01-04T18:50:02.752422Z",
     "start_time": "2023-01-04T18:49:16.185387Z"
    },
    "execution": {
     "iopub.execute_input": "2025-01-31T14:56:12.718973Z",
     "iopub.status.busy": "2025-01-31T14:56:12.718779Z",
     "iopub.status.idle": "2025-01-31T14:56:17.561708Z",
     "shell.execute_reply": "2025-01-31T14:56:17.561308Z",
     "shell.execute_reply.started": "2025-01-31T14:56:12.718956Z"
    }
   },
   "outputs": [],
   "source": [
    "pmd = PMEDM(\n",
    "    pup.year,\n",
    "    pup.est_ind.index,\n",
    "    pup.wt,\n",
    "    pup.est_ind,\n",
    "    pup.est_g1,\n",
    "    pup.est_g2,\n",
    "    pup.se_g1,\n",
    "    pup.se_g2,\n",
    ")"
   ]
  },
  {
   "cell_type": "markdown",
   "id": "0dc165f6-1815-47b6-9e85-8e3d9c1109f9",
   "metadata": {},
   "source": [
    "### Solve P-MEDM problem"
   ]
  },
  {
   "cell_type": "code",
   "execution_count": 7,
   "id": "9a602fa4-bac4-4bfe-b598-770cec187c71",
   "metadata": {
    "execution": {
     "iopub.execute_input": "2025-01-31T14:56:17.562138Z",
     "iopub.status.busy": "2025-01-31T14:56:17.562050Z",
     "iopub.status.idle": "2025-01-31T14:57:13.312077Z",
     "shell.execute_reply": "2025-01-31T14:57:13.311751Z",
     "shell.execute_reply.started": "2025-01-31T14:56:17.562131Z"
    }
   },
   "outputs": [],
   "source": [
    "pmd.solve()"
   ]
  },
  {
   "cell_type": "code",
   "execution_count": 8,
   "id": "507739e8-28f4-4f69-95c8-7b4988ba9fde",
   "metadata": {
    "execution": {
     "iopub.execute_input": "2025-01-31T14:57:13.312534Z",
     "iopub.status.busy": "2025-01-31T14:57:13.312451Z",
     "iopub.status.idle": "2025-01-31T14:57:13.315307Z",
     "shell.execute_reply": "2025-01-31T14:57:13.315119Z",
     "shell.execute_reply.started": "2025-01-31T14:57:13.312525Z"
    }
   },
   "outputs": [
    {
     "data": {
      "text/plain": [
       "-1.9071858768243724"
      ]
     },
     "execution_count": 8,
     "metadata": {},
     "output_type": "execute_result"
    }
   ],
   "source": [
    "# objective value\n",
    "float(pmd.res.state.value)"
   ]
  },
  {
   "cell_type": "markdown",
   "id": "5e9c94d0",
   "metadata": {},
   "source": [
    "### Diagnostics\n",
    "\n",
    "As a quick diagnostic, we measure the proportion of synthetic constraint estimates fitting the ACS 90% margins of error (MOEs), or the `moe_fit_rate`:"
   ]
  },
  {
   "cell_type": "code",
   "execution_count": 9,
   "id": "0fee6d9e",
   "metadata": {
    "ExecuteTime": {
     "end_time": "2023-01-04T18:51:35.487087Z",
     "start_time": "2023-01-04T18:51:35.320569Z"
    },
    "execution": {
     "iopub.execute_input": "2025-01-31T14:57:13.315664Z",
     "iopub.status.busy": "2025-01-31T14:57:13.315590Z",
     "iopub.status.idle": "2025-01-31T14:57:13.465800Z",
     "shell.execute_reply": "2025-01-31T14:57:13.465562Z",
     "shell.execute_reply.started": "2025-01-31T14:57:13.315656Z"
    }
   },
   "outputs": [
    {
     "data": {
      "text/plain": [
       "{'Ycomp':                          constraint   acs        pmedm         err    moe  \\\n",
       " 470930001001             population  1516  1540.808205   24.808205  260.0   \n",
       " 470930001002             population  1134  1201.077097   67.077097  217.0   \n",
       " 470930008001             population  1695  1796.041236  101.041236  566.0   \n",
       " 470930008002             population  1054  1078.459949   24.459949  285.0   \n",
       " 470930008003             population  1907  1893.221063   13.778937  439.0   \n",
       " ...                             ...   ...          ...         ...    ...   \n",
       " 470930069022  hht_nonfam_hhsize_7pm    29    10.947984   18.052016   44.0   \n",
       " 470930069031  hht_nonfam_hhsize_7pm     0     2.179176    2.179176   14.0   \n",
       " 470930069032  hht_nonfam_hhsize_7pm    22    24.008132    2.008132   36.0   \n",
       " 470930070001  hht_nonfam_hhsize_7pm     0     0.000150    0.000150   14.0   \n",
       " 470930070002  hht_nonfam_hhsize_7pm     0     0.000393    0.000393   14.0   \n",
       " \n",
       "               in_moe  \n",
       " 470930001001    True  \n",
       " 470930001002    True  \n",
       " 470930008001    True  \n",
       " 470930008002    True  \n",
       " 470930008003    True  \n",
       " ...              ...  \n",
       " 470930069022    True  \n",
       " 470930069031    True  \n",
       " 470930069032    True  \n",
       " 470930070001    True  \n",
       " 470930070002    True  \n",
       " \n",
       " [18525 rows x 6 columns],\n",
       " 'moe_fit_rate': np.float64(0.9995681511470985)}"
      ]
     },
     "execution_count": 9,
     "metadata": {},
     "output_type": "execute_result"
    }
   ],
   "source": [
    "diagnostics.moe_fit_rate(pup.est_ind, pup.est_g2, pup.se_g2, pmd.almat)"
   ]
  },
  {
   "cell_type": "markdown",
   "id": "9dc14fdc",
   "metadata": {},
   "source": [
    "## Population Synthesis\n",
    "\n",
    "Use Lovelace and Ballas' (2013) \"Truncate, Replicate, Sample\" method to create 30 realizations of the residential synthetic population:"
   ]
  },
  {
   "cell_type": "code",
   "execution_count": 10,
   "id": "54f915a8",
   "metadata": {
    "ExecuteTime": {
     "end_time": "2023-01-04T18:51:39.531269Z",
     "start_time": "2023-01-04T18:51:35.487945Z"
    },
    "execution": {
     "iopub.execute_input": "2025-01-31T14:57:13.466311Z",
     "iopub.status.busy": "2025-01-31T14:57:13.466230Z",
     "iopub.status.idle": "2025-01-31T14:57:24.220640Z",
     "shell.execute_reply": "2025-01-31T14:57:24.220390Z",
     "shell.execute_reply.started": "2025-01-31T14:57:13.466303Z"
    }
   },
   "outputs": [
    {
     "data": {
      "text/html": [
       "<div>\n",
       "<style scoped>\n",
       "    .dataframe tbody tr th:only-of-type {\n",
       "        vertical-align: middle;\n",
       "    }\n",
       "\n",
       "    .dataframe tbody tr th {\n",
       "        vertical-align: top;\n",
       "    }\n",
       "\n",
       "    .dataframe thead th {\n",
       "        text-align: right;\n",
       "    }\n",
       "</style>\n",
       "<table border=\"1\" class=\"dataframe\">\n",
       "  <thead>\n",
       "    <tr style=\"text-align: right;\">\n",
       "      <th></th>\n",
       "      <th>sim</th>\n",
       "      <th>geoid</th>\n",
       "      <th>count</th>\n",
       "    </tr>\n",
       "    <tr>\n",
       "      <th>h_id</th>\n",
       "      <th></th>\n",
       "      <th></th>\n",
       "      <th></th>\n",
       "    </tr>\n",
       "  </thead>\n",
       "  <tbody>\n",
       "    <tr>\n",
       "      <th>2019GQ0013655</th>\n",
       "      <td>0</td>\n",
       "      <td>470930001001</td>\n",
       "      <td>6</td>\n",
       "    </tr>\n",
       "    <tr>\n",
       "      <th>2019GQ0015912</th>\n",
       "      <td>0</td>\n",
       "      <td>470930001001</td>\n",
       "      <td>4</td>\n",
       "    </tr>\n",
       "    <tr>\n",
       "      <th>2019GQ0032247</th>\n",
       "      <td>0</td>\n",
       "      <td>470930001001</td>\n",
       "      <td>2</td>\n",
       "    </tr>\n",
       "    <tr>\n",
       "      <th>2019GQ0052860</th>\n",
       "      <td>0</td>\n",
       "      <td>470930001001</td>\n",
       "      <td>2</td>\n",
       "    </tr>\n",
       "    <tr>\n",
       "      <th>2019GQ0062180</th>\n",
       "      <td>0</td>\n",
       "      <td>470930001001</td>\n",
       "      <td>2</td>\n",
       "    </tr>\n",
       "    <tr>\n",
       "      <th>...</th>\n",
       "      <td>...</td>\n",
       "      <td>...</td>\n",
       "      <td>...</td>\n",
       "    </tr>\n",
       "    <tr>\n",
       "      <th>2023HU1425255</th>\n",
       "      <td>29</td>\n",
       "      <td>470930070002</td>\n",
       "      <td>1</td>\n",
       "    </tr>\n",
       "    <tr>\n",
       "      <th>2023HU1431982</th>\n",
       "      <td>29</td>\n",
       "      <td>470930070002</td>\n",
       "      <td>1</td>\n",
       "    </tr>\n",
       "    <tr>\n",
       "      <th>2023HU1444747</th>\n",
       "      <td>29</td>\n",
       "      <td>470930070002</td>\n",
       "      <td>2</td>\n",
       "    </tr>\n",
       "    <tr>\n",
       "      <th>2023HU1455500</th>\n",
       "      <td>29</td>\n",
       "      <td>470930070002</td>\n",
       "      <td>2</td>\n",
       "    </tr>\n",
       "    <tr>\n",
       "      <th>2023HU1456828</th>\n",
       "      <td>29</td>\n",
       "      <td>470930070002</td>\n",
       "      <td>2</td>\n",
       "    </tr>\n",
       "  </tbody>\n",
       "</table>\n",
       "<p>1248109 rows × 3 columns</p>\n",
       "</div>"
      ],
      "text/plain": [
       "               sim         geoid  count\n",
       "h_id                                   \n",
       "2019GQ0013655    0  470930001001      6\n",
       "2019GQ0015912    0  470930001001      4\n",
       "2019GQ0032247    0  470930001001      2\n",
       "2019GQ0052860    0  470930001001      2\n",
       "2019GQ0062180    0  470930001001      2\n",
       "...            ...           ...    ...\n",
       "2023HU1425255   29  470930070002      1\n",
       "2023HU1431982   29  470930070002      1\n",
       "2023HU1444747   29  470930070002      2\n",
       "2023HU1455500   29  470930070002      2\n",
       "2023HU1456828   29  470930070002      2\n",
       "\n",
       "[1248109 rows x 3 columns]"
      ]
     },
     "execution_count": 10,
     "metadata": {},
     "output_type": "execute_result"
    }
   ],
   "source": [
    "hs = homesim.synthesize(\n",
    "    pmd.almat,\n",
    "    pup.est_ind,\n",
    "    pup.est_g2,\n",
    "    pup.sporder,\n",
    "    random_state=int(pup.fips),\n",
    ")\n",
    "hs"
   ]
  },
  {
   "cell_type": "markdown",
   "id": "3680f6b9",
   "metadata": {},
   "source": [
    "## Application 1: Creating Agents for `actlike`\n",
    "\n",
    "For this example, we'll focus on tabulating 10th grade public school students. We will identify matching person-level records from the PUMS by querying the Census Microdata API on two criteria:\n",
    "\n",
    "- Public School Student {`SCH` : 2}\n",
    "- Attending 10th Grade {`SCHG` : 12}\n",
    "\n",
    "We set up our API query by separating these conditions with an `&`, as:"
   ]
  },
  {
   "cell_type": "code",
   "execution_count": 11,
   "id": "92f3b042",
   "metadata": {
    "ExecuteTime": {
     "end_time": "2023-01-04T18:51:39.533802Z",
     "start_time": "2023-01-04T18:51:39.532183Z"
    },
    "execution": {
     "iopub.execute_input": "2025-01-31T14:57:24.221159Z",
     "iopub.status.busy": "2025-01-31T14:57:24.221067Z",
     "iopub.status.idle": "2025-01-31T14:57:24.222711Z",
     "shell.execute_reply": "2025-01-31T14:57:24.222455Z",
     "shell.execute_reply.started": "2025-01-31T14:57:24.221151Z"
    }
   },
   "outputs": [],
   "source": [
    "# API query\n",
    "q1 = \"SCH=2&SCHG=12\""
   ]
  },
  {
   "cell_type": "code",
   "execution_count": 12,
   "id": "2691544e",
   "metadata": {
    "ExecuteTime": {
     "end_time": "2023-01-04T18:51:41.210137Z",
     "start_time": "2023-01-04T18:51:39.534504Z"
    },
    "execution": {
     "iopub.execute_input": "2025-01-31T14:57:24.223109Z",
     "iopub.status.busy": "2025-01-31T14:57:24.223039Z",
     "iopub.status.idle": "2025-01-31T14:57:25.589482Z",
     "shell.execute_reply": "2025-01-31T14:57:25.588651Z",
     "shell.execute_reply.started": "2025-01-31T14:57:24.223100Z"
    }
   },
   "outputs": [],
   "source": [
    "seg1_extract = acs.extract_pums_segment_ids(p, \"person\", q1, year=2023)"
   ]
  },
  {
   "cell_type": "markdown",
   "id": "42d7bd2c",
   "metadata": {},
   "source": [
    "Then, create the agents by merging the extract with our synthetic population (`hs`): "
   ]
  },
  {
   "cell_type": "code",
   "execution_count": 13,
   "id": "6bc8f97c",
   "metadata": {
    "ExecuteTime": {
     "end_time": "2023-01-04T18:51:41.336027Z",
     "start_time": "2023-01-04T18:51:41.213738Z"
    },
    "execution": {
     "iopub.execute_input": "2025-01-31T14:57:25.590814Z",
     "iopub.status.busy": "2025-01-31T14:57:25.590418Z",
     "iopub.status.idle": "2025-01-31T14:57:25.677804Z",
     "shell.execute_reply": "2025-01-31T14:57:25.677505Z",
     "shell.execute_reply.started": "2025-01-31T14:57:25.590770Z"
    }
   },
   "outputs": [
    {
     "data": {
      "text/html": [
       "<div>\n",
       "<style scoped>\n",
       "    .dataframe tbody tr th:only-of-type {\n",
       "        vertical-align: middle;\n",
       "    }\n",
       "\n",
       "    .dataframe tbody tr th {\n",
       "        vertical-align: top;\n",
       "    }\n",
       "\n",
       "    .dataframe thead th {\n",
       "        text-align: right;\n",
       "    }\n",
       "</style>\n",
       "<table border=\"1\" class=\"dataframe\">\n",
       "  <thead>\n",
       "    <tr style=\"text-align: right;\">\n",
       "      <th></th>\n",
       "      <th>sim</th>\n",
       "      <th>geoid</th>\n",
       "      <th>count</th>\n",
       "      <th>SERIALNO</th>\n",
       "      <th>p_id</th>\n",
       "    </tr>\n",
       "  </thead>\n",
       "  <tbody>\n",
       "    <tr>\n",
       "      <th>0</th>\n",
       "      <td>0</td>\n",
       "      <td>470930008001</td>\n",
       "      <td>2</td>\n",
       "      <td>2023HU0000649</td>\n",
       "      <td>2023HU000064905</td>\n",
       "    </tr>\n",
       "    <tr>\n",
       "      <th>1</th>\n",
       "      <td>0</td>\n",
       "      <td>470930008002</td>\n",
       "      <td>1</td>\n",
       "      <td>2020HU0046790</td>\n",
       "      <td>2020HU004679002</td>\n",
       "    </tr>\n",
       "    <tr>\n",
       "      <th>2</th>\n",
       "      <td>0</td>\n",
       "      <td>470930008002</td>\n",
       "      <td>6</td>\n",
       "      <td>2021HU0680527</td>\n",
       "      <td>2021HU068052703</td>\n",
       "    </tr>\n",
       "    <tr>\n",
       "      <th>3</th>\n",
       "      <td>0</td>\n",
       "      <td>470930008002</td>\n",
       "      <td>1</td>\n",
       "      <td>2023HU0446894</td>\n",
       "      <td>2023HU044689402</td>\n",
       "    </tr>\n",
       "    <tr>\n",
       "      <th>4</th>\n",
       "      <td>0</td>\n",
       "      <td>470930008003</td>\n",
       "      <td>1</td>\n",
       "      <td>2019HU0442114</td>\n",
       "      <td>2019HU044211403</td>\n",
       "    </tr>\n",
       "    <tr>\n",
       "      <th>...</th>\n",
       "      <td>...</td>\n",
       "      <td>...</td>\n",
       "      <td>...</td>\n",
       "      <td>...</td>\n",
       "      <td>...</td>\n",
       "    </tr>\n",
       "    <tr>\n",
       "      <th>10862</th>\n",
       "      <td>29</td>\n",
       "      <td>470930070001</td>\n",
       "      <td>2</td>\n",
       "      <td>2023HU1297821</td>\n",
       "      <td>2023HU129782103</td>\n",
       "    </tr>\n",
       "    <tr>\n",
       "      <th>10863</th>\n",
       "      <td>29</td>\n",
       "      <td>470930070001</td>\n",
       "      <td>6</td>\n",
       "      <td>2023HU1379028</td>\n",
       "      <td>2023HU137902802</td>\n",
       "    </tr>\n",
       "    <tr>\n",
       "      <th>10864</th>\n",
       "      <td>29</td>\n",
       "      <td>470930070002</td>\n",
       "      <td>1</td>\n",
       "      <td>2019HU0563061</td>\n",
       "      <td>2019HU056306102</td>\n",
       "    </tr>\n",
       "    <tr>\n",
       "      <th>10865</th>\n",
       "      <td>29</td>\n",
       "      <td>470930070002</td>\n",
       "      <td>1</td>\n",
       "      <td>2020HU0516217</td>\n",
       "      <td>2020HU051621703</td>\n",
       "    </tr>\n",
       "    <tr>\n",
       "      <th>10866</th>\n",
       "      <td>29</td>\n",
       "      <td>470930070002</td>\n",
       "      <td>1</td>\n",
       "      <td>2020HU0516217</td>\n",
       "      <td>2020HU051621704</td>\n",
       "    </tr>\n",
       "  </tbody>\n",
       "</table>\n",
       "<p>10867 rows × 5 columns</p>\n",
       "</div>"
      ],
      "text/plain": [
       "       sim         geoid  count       SERIALNO             p_id\n",
       "0        0  470930008001      2  2023HU0000649  2023HU000064905\n",
       "1        0  470930008002      1  2020HU0046790  2020HU004679002\n",
       "2        0  470930008002      6  2021HU0680527  2021HU068052703\n",
       "3        0  470930008002      1  2023HU0446894  2023HU044689402\n",
       "4        0  470930008003      1  2019HU0442114  2019HU044211403\n",
       "...    ...           ...    ...            ...              ...\n",
       "10862   29  470930070001      2  2023HU1297821  2023HU129782103\n",
       "10863   29  470930070001      6  2023HU1379028  2023HU137902802\n",
       "10864   29  470930070002      1  2019HU0563061  2019HU056306102\n",
       "10865   29  470930070002      1  2020HU0516217  2020HU051621703\n",
       "10866   29  470930070002      1  2020HU0516217  2020HU051621704\n",
       "\n",
       "[10867 rows x 5 columns]"
      ]
     },
     "execution_count": 13,
     "metadata": {},
     "output_type": "execute_result"
    }
   ],
   "source": [
    "seg1 = hs.merge(\n",
    "    seg1_extract.loc[:, [\"SERIALNO\", \"p_id\"]], left_on=\"h_id\", right_on=\"SERIALNO\"\n",
    ")\n",
    "seg1"
   ]
  },
  {
   "cell_type": "markdown",
   "id": "fdc397a1",
   "metadata": {},
   "source": [
    "## Application 2: Tabulating Segments\n",
    "\n",
    "Sometimes we require more specific criteria to select segments than what is available in our P-MEDM constraints (i.e., occupation class, NAICS code, hours worked). We can fetch additional PUMS variables related to the constraints from the Census Microdata API query and then link them to our synthetic populations.\n",
    "\n",
    "For this example, we'll estimate the counts of full-time workers in K-12 schools, specifically:\n",
    "\n",
    "- Employed full time and currently at work (`ESR == 1`)\n",
    "- Working in elementary or secondary schools (`NAICSP == 6111`)\n",
    "- In a preschool, kindergarten, primary, or secondary school teaching position (`{OCCP : [2300, 2310, 2320]}`)\n",
    "- Working 40+ hours per week (`WKHP >= 40`)\n",
    "\n",
    "Begin by generating the new API query:"
   ]
  },
  {
   "cell_type": "code",
   "execution_count": 14,
   "id": "16de341f",
   "metadata": {
    "ExecuteTime": {
     "end_time": "2023-01-04T18:51:41.343957Z",
     "start_time": "2023-01-04T18:51:41.342493Z"
    },
    "execution": {
     "iopub.execute_input": "2025-01-31T14:57:25.678236Z",
     "iopub.status.busy": "2025-01-31T14:57:25.678164Z",
     "iopub.status.idle": "2025-01-31T14:57:25.679810Z",
     "shell.execute_reply": "2025-01-31T14:57:25.679598Z",
     "shell.execute_reply.started": "2025-01-31T14:57:25.678229Z"
    }
   },
   "outputs": [],
   "source": [
    "q2 = \"ESR=1&NAICSP=6111&OCCP=2300:2320&WKHP=40:999\""
   ]
  },
  {
   "cell_type": "markdown",
   "id": "650bdde1",
   "metadata": {},
   "source": [
    "A `>=` operator does not seem to be availble for CMD API requests, so `40:999` is used in its place.\n",
    "\n",
    "Now make the API extract:"
   ]
  },
  {
   "cell_type": "code",
   "execution_count": 15,
   "id": "d9744712",
   "metadata": {
    "ExecuteTime": {
     "end_time": "2023-01-04T18:51:46.965289Z",
     "start_time": "2023-01-04T18:51:41.344681Z"
    },
    "execution": {
     "iopub.execute_input": "2025-01-31T14:57:25.680204Z",
     "iopub.status.busy": "2025-01-31T14:57:25.680129Z",
     "iopub.status.idle": "2025-01-31T14:57:31.021206Z",
     "shell.execute_reply": "2025-01-31T14:57:31.020046Z",
     "shell.execute_reply.started": "2025-01-31T14:57:25.680196Z"
    }
   },
   "outputs": [],
   "source": [
    "seg2 = acs.extract_pums_segment_ids(p, \"person\", q2, year=2023, censusapikey=key)"
   ]
  },
  {
   "cell_type": "markdown",
   "id": "06672ab2",
   "metadata": {},
   "source": [
    "This returns a DataFrame containing the household ID (`SERIALNO`) and household structure (`SPORDER`) for each matching respondent in the PUMS:"
   ]
  },
  {
   "cell_type": "code",
   "execution_count": 16,
   "id": "ac61225d",
   "metadata": {
    "ExecuteTime": {
     "end_time": "2023-01-04T18:51:46.981087Z",
     "start_time": "2023-01-04T18:51:46.968510Z"
    },
    "execution": {
     "iopub.execute_input": "2025-01-31T14:57:31.023249Z",
     "iopub.status.busy": "2025-01-31T14:57:31.022886Z",
     "iopub.status.idle": "2025-01-31T14:57:31.044183Z",
     "shell.execute_reply": "2025-01-31T14:57:31.043498Z",
     "shell.execute_reply.started": "2025-01-31T14:57:31.023209Z"
    }
   },
   "outputs": [
    {
     "data": {
      "text/html": [
       "<div>\n",
       "<style scoped>\n",
       "    .dataframe tbody tr th:only-of-type {\n",
       "        vertical-align: middle;\n",
       "    }\n",
       "\n",
       "    .dataframe tbody tr th {\n",
       "        vertical-align: top;\n",
       "    }\n",
       "\n",
       "    .dataframe thead th {\n",
       "        text-align: right;\n",
       "    }\n",
       "</style>\n",
       "<table border=\"1\" class=\"dataframe\">\n",
       "  <thead>\n",
       "    <tr style=\"text-align: right;\">\n",
       "      <th></th>\n",
       "      <th>SERIALNO</th>\n",
       "      <th>SPORDER</th>\n",
       "      <th>ESR</th>\n",
       "      <th>NAICSP</th>\n",
       "      <th>OCCP</th>\n",
       "      <th>WKHP</th>\n",
       "      <th>p_id</th>\n",
       "    </tr>\n",
       "  </thead>\n",
       "  <tbody>\n",
       "    <tr>\n",
       "      <th>1</th>\n",
       "      <td>2019HU0097682</td>\n",
       "      <td>2</td>\n",
       "      <td>1</td>\n",
       "      <td>6111</td>\n",
       "      <td>2310</td>\n",
       "      <td>45</td>\n",
       "      <td>2019HU009768202</td>\n",
       "    </tr>\n",
       "    <tr>\n",
       "      <th>2</th>\n",
       "      <td>2019HU0289957</td>\n",
       "      <td>2</td>\n",
       "      <td>1</td>\n",
       "      <td>6111</td>\n",
       "      <td>0230</td>\n",
       "      <td>40</td>\n",
       "      <td>2019HU028995702</td>\n",
       "    </tr>\n",
       "    <tr>\n",
       "      <th>3</th>\n",
       "      <td>2019HU0447417</td>\n",
       "      <td>1</td>\n",
       "      <td>1</td>\n",
       "      <td>6111</td>\n",
       "      <td>2300</td>\n",
       "      <td>40</td>\n",
       "      <td>2019HU044741701</td>\n",
       "    </tr>\n",
       "    <tr>\n",
       "      <th>4</th>\n",
       "      <td>2019HU0561641</td>\n",
       "      <td>1</td>\n",
       "      <td>1</td>\n",
       "      <td>6111</td>\n",
       "      <td>2300</td>\n",
       "      <td>50</td>\n",
       "      <td>2019HU056164101</td>\n",
       "    </tr>\n",
       "    <tr>\n",
       "      <th>5</th>\n",
       "      <td>2019HU0598017</td>\n",
       "      <td>1</td>\n",
       "      <td>1</td>\n",
       "      <td>6111</td>\n",
       "      <td>2310</td>\n",
       "      <td>50</td>\n",
       "      <td>2019HU059801701</td>\n",
       "    </tr>\n",
       "    <tr>\n",
       "      <th>6</th>\n",
       "      <td>2019HU0691164</td>\n",
       "      <td>1</td>\n",
       "      <td>1</td>\n",
       "      <td>6111</td>\n",
       "      <td>2310</td>\n",
       "      <td>40</td>\n",
       "      <td>2019HU069116401</td>\n",
       "    </tr>\n",
       "    <tr>\n",
       "      <th>7</th>\n",
       "      <td>2019HU0803948</td>\n",
       "      <td>1</td>\n",
       "      <td>1</td>\n",
       "      <td>6111</td>\n",
       "      <td>2310</td>\n",
       "      <td>40</td>\n",
       "      <td>2019HU080394801</td>\n",
       "    </tr>\n",
       "    <tr>\n",
       "      <th>8</th>\n",
       "      <td>2019HU0859840</td>\n",
       "      <td>1</td>\n",
       "      <td>1</td>\n",
       "      <td>6111</td>\n",
       "      <td>2320</td>\n",
       "      <td>50</td>\n",
       "      <td>2019HU085984001</td>\n",
       "    </tr>\n",
       "    <tr>\n",
       "      <th>9</th>\n",
       "      <td>2019HU0936196</td>\n",
       "      <td>1</td>\n",
       "      <td>1</td>\n",
       "      <td>6111</td>\n",
       "      <td>2310</td>\n",
       "      <td>40</td>\n",
       "      <td>2019HU093619601</td>\n",
       "    </tr>\n",
       "    <tr>\n",
       "      <th>10</th>\n",
       "      <td>2019HU0936196</td>\n",
       "      <td>2</td>\n",
       "      <td>1</td>\n",
       "      <td>6111</td>\n",
       "      <td>2310</td>\n",
       "      <td>40</td>\n",
       "      <td>2019HU093619602</td>\n",
       "    </tr>\n",
       "    <tr>\n",
       "      <th>11</th>\n",
       "      <td>2019HU0977021</td>\n",
       "      <td>1</td>\n",
       "      <td>1</td>\n",
       "      <td>6111</td>\n",
       "      <td>0230</td>\n",
       "      <td>40</td>\n",
       "      <td>2019HU097702101</td>\n",
       "    </tr>\n",
       "    <tr>\n",
       "      <th>12</th>\n",
       "      <td>2019HU1060409</td>\n",
       "      <td>1</td>\n",
       "      <td>1</td>\n",
       "      <td>6111</td>\n",
       "      <td>2310</td>\n",
       "      <td>40</td>\n",
       "      <td>2019HU106040901</td>\n",
       "    </tr>\n",
       "    <tr>\n",
       "      <th>13</th>\n",
       "      <td>2019HU1109983</td>\n",
       "      <td>1</td>\n",
       "      <td>1</td>\n",
       "      <td>6111</td>\n",
       "      <td>2310</td>\n",
       "      <td>45</td>\n",
       "      <td>2019HU110998301</td>\n",
       "    </tr>\n",
       "    <tr>\n",
       "      <th>14</th>\n",
       "      <td>2019HU1109983</td>\n",
       "      <td>2</td>\n",
       "      <td>1</td>\n",
       "      <td>6111</td>\n",
       "      <td>2310</td>\n",
       "      <td>50</td>\n",
       "      <td>2019HU110998302</td>\n",
       "    </tr>\n",
       "    <tr>\n",
       "      <th>15</th>\n",
       "      <td>2019HU1172652</td>\n",
       "      <td>1</td>\n",
       "      <td>1</td>\n",
       "      <td>6111</td>\n",
       "      <td>2310</td>\n",
       "      <td>40</td>\n",
       "      <td>2019HU117265201</td>\n",
       "    </tr>\n",
       "    <tr>\n",
       "      <th>16</th>\n",
       "      <td>2019HU1263075</td>\n",
       "      <td>1</td>\n",
       "      <td>1</td>\n",
       "      <td>6111</td>\n",
       "      <td>2310</td>\n",
       "      <td>40</td>\n",
       "      <td>2019HU126307501</td>\n",
       "    </tr>\n",
       "    <tr>\n",
       "      <th>17</th>\n",
       "      <td>2019HU1357394</td>\n",
       "      <td>1</td>\n",
       "      <td>1</td>\n",
       "      <td>6111</td>\n",
       "      <td>2320</td>\n",
       "      <td>60</td>\n",
       "      <td>2019HU135739401</td>\n",
       "    </tr>\n",
       "    <tr>\n",
       "      <th>18</th>\n",
       "      <td>2019HU1368652</td>\n",
       "      <td>1</td>\n",
       "      <td>1</td>\n",
       "      <td>6111</td>\n",
       "      <td>1822</td>\n",
       "      <td>40</td>\n",
       "      <td>2019HU136865201</td>\n",
       "    </tr>\n",
       "    <tr>\n",
       "      <th>19</th>\n",
       "      <td>2020HU0059835</td>\n",
       "      <td>1</td>\n",
       "      <td>1</td>\n",
       "      <td>6111</td>\n",
       "      <td>2310</td>\n",
       "      <td>40</td>\n",
       "      <td>2020HU005983501</td>\n",
       "    </tr>\n",
       "    <tr>\n",
       "      <th>20</th>\n",
       "      <td>2020HU0637546</td>\n",
       "      <td>2</td>\n",
       "      <td>1</td>\n",
       "      <td>6111</td>\n",
       "      <td>2310</td>\n",
       "      <td>50</td>\n",
       "      <td>2020HU063754602</td>\n",
       "    </tr>\n",
       "    <tr>\n",
       "      <th>21</th>\n",
       "      <td>2020HU0749038</td>\n",
       "      <td>2</td>\n",
       "      <td>1</td>\n",
       "      <td>6111</td>\n",
       "      <td>2310</td>\n",
       "      <td>45</td>\n",
       "      <td>2020HU074903802</td>\n",
       "    </tr>\n",
       "    <tr>\n",
       "      <th>22</th>\n",
       "      <td>2020HU0780092</td>\n",
       "      <td>1</td>\n",
       "      <td>1</td>\n",
       "      <td>6111</td>\n",
       "      <td>2310</td>\n",
       "      <td>50</td>\n",
       "      <td>2020HU078009201</td>\n",
       "    </tr>\n",
       "    <tr>\n",
       "      <th>23</th>\n",
       "      <td>2020HU0836609</td>\n",
       "      <td>2</td>\n",
       "      <td>1</td>\n",
       "      <td>6111</td>\n",
       "      <td>2310</td>\n",
       "      <td>40</td>\n",
       "      <td>2020HU083660902</td>\n",
       "    </tr>\n",
       "    <tr>\n",
       "      <th>24</th>\n",
       "      <td>2022HU0844787</td>\n",
       "      <td>2</td>\n",
       "      <td>1</td>\n",
       "      <td>6111</td>\n",
       "      <td>2310</td>\n",
       "      <td>40</td>\n",
       "      <td>2022HU084478702</td>\n",
       "    </tr>\n",
       "    <tr>\n",
       "      <th>25</th>\n",
       "      <td>2022HU0868973</td>\n",
       "      <td>2</td>\n",
       "      <td>1</td>\n",
       "      <td>6111</td>\n",
       "      <td>2310</td>\n",
       "      <td>40</td>\n",
       "      <td>2022HU086897302</td>\n",
       "    </tr>\n",
       "    <tr>\n",
       "      <th>26</th>\n",
       "      <td>2022HU0931949</td>\n",
       "      <td>1</td>\n",
       "      <td>1</td>\n",
       "      <td>6111</td>\n",
       "      <td>2001</td>\n",
       "      <td>40</td>\n",
       "      <td>2022HU093194901</td>\n",
       "    </tr>\n",
       "    <tr>\n",
       "      <th>27</th>\n",
       "      <td>2022HU0985928</td>\n",
       "      <td>1</td>\n",
       "      <td>1</td>\n",
       "      <td>6111</td>\n",
       "      <td>2310</td>\n",
       "      <td>48</td>\n",
       "      <td>2022HU098592801</td>\n",
       "    </tr>\n",
       "    <tr>\n",
       "      <th>28</th>\n",
       "      <td>2022HU1160735</td>\n",
       "      <td>2</td>\n",
       "      <td>1</td>\n",
       "      <td>6111</td>\n",
       "      <td>2320</td>\n",
       "      <td>50</td>\n",
       "      <td>2022HU116073502</td>\n",
       "    </tr>\n",
       "    <tr>\n",
       "      <th>29</th>\n",
       "      <td>2022HU1180009</td>\n",
       "      <td>2</td>\n",
       "      <td>1</td>\n",
       "      <td>6111</td>\n",
       "      <td>2310</td>\n",
       "      <td>40</td>\n",
       "      <td>2022HU118000902</td>\n",
       "    </tr>\n",
       "    <tr>\n",
       "      <th>30</th>\n",
       "      <td>2022HU1237325</td>\n",
       "      <td>1</td>\n",
       "      <td>1</td>\n",
       "      <td>6111</td>\n",
       "      <td>2320</td>\n",
       "      <td>40</td>\n",
       "      <td>2022HU123732501</td>\n",
       "    </tr>\n",
       "    <tr>\n",
       "      <th>31</th>\n",
       "      <td>2022HU1291461</td>\n",
       "      <td>2</td>\n",
       "      <td>1</td>\n",
       "      <td>6111</td>\n",
       "      <td>2320</td>\n",
       "      <td>40</td>\n",
       "      <td>2022HU129146102</td>\n",
       "    </tr>\n",
       "    <tr>\n",
       "      <th>32</th>\n",
       "      <td>2023HU0036071</td>\n",
       "      <td>1</td>\n",
       "      <td>1</td>\n",
       "      <td>6111</td>\n",
       "      <td>2320</td>\n",
       "      <td>40</td>\n",
       "      <td>2023HU003607101</td>\n",
       "    </tr>\n",
       "    <tr>\n",
       "      <th>33</th>\n",
       "      <td>2023HU0087763</td>\n",
       "      <td>2</td>\n",
       "      <td>1</td>\n",
       "      <td>6111</td>\n",
       "      <td>2310</td>\n",
       "      <td>40</td>\n",
       "      <td>2023HU008776302</td>\n",
       "    </tr>\n",
       "    <tr>\n",
       "      <th>34</th>\n",
       "      <td>2023HU0148020</td>\n",
       "      <td>1</td>\n",
       "      <td>1</td>\n",
       "      <td>6111</td>\n",
       "      <td>2320</td>\n",
       "      <td>40</td>\n",
       "      <td>2023HU014802001</td>\n",
       "    </tr>\n",
       "    <tr>\n",
       "      <th>35</th>\n",
       "      <td>2023HU0166595</td>\n",
       "      <td>1</td>\n",
       "      <td>1</td>\n",
       "      <td>6111</td>\n",
       "      <td>2310</td>\n",
       "      <td>45</td>\n",
       "      <td>2023HU016659501</td>\n",
       "    </tr>\n",
       "    <tr>\n",
       "      <th>36</th>\n",
       "      <td>2023HU0231715</td>\n",
       "      <td>1</td>\n",
       "      <td>1</td>\n",
       "      <td>6111</td>\n",
       "      <td>2310</td>\n",
       "      <td>40</td>\n",
       "      <td>2023HU023171501</td>\n",
       "    </tr>\n",
       "    <tr>\n",
       "      <th>37</th>\n",
       "      <td>2023HU0517507</td>\n",
       "      <td>1</td>\n",
       "      <td>1</td>\n",
       "      <td>6111</td>\n",
       "      <td>2310</td>\n",
       "      <td>50</td>\n",
       "      <td>2023HU051750701</td>\n",
       "    </tr>\n",
       "    <tr>\n",
       "      <th>38</th>\n",
       "      <td>2023HU0566630</td>\n",
       "      <td>1</td>\n",
       "      <td>1</td>\n",
       "      <td>6111</td>\n",
       "      <td>2310</td>\n",
       "      <td>60</td>\n",
       "      <td>2023HU056663001</td>\n",
       "    </tr>\n",
       "    <tr>\n",
       "      <th>39</th>\n",
       "      <td>2023HU0580471</td>\n",
       "      <td>1</td>\n",
       "      <td>1</td>\n",
       "      <td>6111</td>\n",
       "      <td>2310</td>\n",
       "      <td>40</td>\n",
       "      <td>2023HU058047101</td>\n",
       "    </tr>\n",
       "    <tr>\n",
       "      <th>40</th>\n",
       "      <td>2023HU0835350</td>\n",
       "      <td>2</td>\n",
       "      <td>1</td>\n",
       "      <td>6111</td>\n",
       "      <td>0230</td>\n",
       "      <td>40</td>\n",
       "      <td>2023HU083535002</td>\n",
       "    </tr>\n",
       "    <tr>\n",
       "      <th>41</th>\n",
       "      <td>2023HU1144518</td>\n",
       "      <td>3</td>\n",
       "      <td>1</td>\n",
       "      <td>6111</td>\n",
       "      <td>2310</td>\n",
       "      <td>40</td>\n",
       "      <td>2023HU114451803</td>\n",
       "    </tr>\n",
       "    <tr>\n",
       "      <th>42</th>\n",
       "      <td>2023HU1358421</td>\n",
       "      <td>1</td>\n",
       "      <td>1</td>\n",
       "      <td>6111</td>\n",
       "      <td>2310</td>\n",
       "      <td>55</td>\n",
       "      <td>2023HU135842101</td>\n",
       "    </tr>\n",
       "    <tr>\n",
       "      <th>43</th>\n",
       "      <td>2020HU0942181</td>\n",
       "      <td>2</td>\n",
       "      <td>1</td>\n",
       "      <td>6111</td>\n",
       "      <td>1822</td>\n",
       "      <td>40</td>\n",
       "      <td>2020HU094218102</td>\n",
       "    </tr>\n",
       "    <tr>\n",
       "      <th>44</th>\n",
       "      <td>2021HU0103128</td>\n",
       "      <td>1</td>\n",
       "      <td>1</td>\n",
       "      <td>6111</td>\n",
       "      <td>2310</td>\n",
       "      <td>45</td>\n",
       "      <td>2021HU010312801</td>\n",
       "    </tr>\n",
       "    <tr>\n",
       "      <th>45</th>\n",
       "      <td>2021HU0658383</td>\n",
       "      <td>1</td>\n",
       "      <td>1</td>\n",
       "      <td>6111</td>\n",
       "      <td>2320</td>\n",
       "      <td>70</td>\n",
       "      <td>2021HU065838301</td>\n",
       "    </tr>\n",
       "    <tr>\n",
       "      <th>46</th>\n",
       "      <td>2021HU0873039</td>\n",
       "      <td>1</td>\n",
       "      <td>1</td>\n",
       "      <td>6111</td>\n",
       "      <td>2320</td>\n",
       "      <td>55</td>\n",
       "      <td>2021HU087303901</td>\n",
       "    </tr>\n",
       "    <tr>\n",
       "      <th>47</th>\n",
       "      <td>2021HU0969626</td>\n",
       "      <td>1</td>\n",
       "      <td>1</td>\n",
       "      <td>6111</td>\n",
       "      <td>2310</td>\n",
       "      <td>65</td>\n",
       "      <td>2021HU096962601</td>\n",
       "    </tr>\n",
       "    <tr>\n",
       "      <th>48</th>\n",
       "      <td>2021HU0985945</td>\n",
       "      <td>2</td>\n",
       "      <td>1</td>\n",
       "      <td>6111</td>\n",
       "      <td>2320</td>\n",
       "      <td>50</td>\n",
       "      <td>2021HU098594502</td>\n",
       "    </tr>\n",
       "    <tr>\n",
       "      <th>49</th>\n",
       "      <td>2021HU1184071</td>\n",
       "      <td>2</td>\n",
       "      <td>1</td>\n",
       "      <td>6111</td>\n",
       "      <td>2310</td>\n",
       "      <td>40</td>\n",
       "      <td>2021HU118407102</td>\n",
       "    </tr>\n",
       "    <tr>\n",
       "      <th>50</th>\n",
       "      <td>2021HU1253720</td>\n",
       "      <td>1</td>\n",
       "      <td>1</td>\n",
       "      <td>6111</td>\n",
       "      <td>2310</td>\n",
       "      <td>40</td>\n",
       "      <td>2021HU125372001</td>\n",
       "    </tr>\n",
       "    <tr>\n",
       "      <th>51</th>\n",
       "      <td>2021HU1327895</td>\n",
       "      <td>1</td>\n",
       "      <td>1</td>\n",
       "      <td>6111</td>\n",
       "      <td>2310</td>\n",
       "      <td>60</td>\n",
       "      <td>2021HU132789501</td>\n",
       "    </tr>\n",
       "    <tr>\n",
       "      <th>52</th>\n",
       "      <td>2021HU1330821</td>\n",
       "      <td>1</td>\n",
       "      <td>1</td>\n",
       "      <td>6111</td>\n",
       "      <td>2320</td>\n",
       "      <td>50</td>\n",
       "      <td>2021HU133082101</td>\n",
       "    </tr>\n",
       "    <tr>\n",
       "      <th>53</th>\n",
       "      <td>2022HU0099877</td>\n",
       "      <td>1</td>\n",
       "      <td>1</td>\n",
       "      <td>6111</td>\n",
       "      <td>2310</td>\n",
       "      <td>45</td>\n",
       "      <td>2022HU009987701</td>\n",
       "    </tr>\n",
       "    <tr>\n",
       "      <th>54</th>\n",
       "      <td>2022HU0141145</td>\n",
       "      <td>1</td>\n",
       "      <td>1</td>\n",
       "      <td>6111</td>\n",
       "      <td>2002</td>\n",
       "      <td>40</td>\n",
       "      <td>2022HU014114501</td>\n",
       "    </tr>\n",
       "    <tr>\n",
       "      <th>55</th>\n",
       "      <td>2022HU0160486</td>\n",
       "      <td>1</td>\n",
       "      <td>1</td>\n",
       "      <td>6111</td>\n",
       "      <td>2320</td>\n",
       "      <td>40</td>\n",
       "      <td>2022HU016048601</td>\n",
       "    </tr>\n",
       "    <tr>\n",
       "      <th>56</th>\n",
       "      <td>2022HU0286991</td>\n",
       "      <td>2</td>\n",
       "      <td>1</td>\n",
       "      <td>6111</td>\n",
       "      <td>1050</td>\n",
       "      <td>40</td>\n",
       "      <td>2022HU028699102</td>\n",
       "    </tr>\n",
       "    <tr>\n",
       "      <th>57</th>\n",
       "      <td>2022HU0313618</td>\n",
       "      <td>1</td>\n",
       "      <td>1</td>\n",
       "      <td>6111</td>\n",
       "      <td>2310</td>\n",
       "      <td>45</td>\n",
       "      <td>2022HU031361801</td>\n",
       "    </tr>\n",
       "    <tr>\n",
       "      <th>58</th>\n",
       "      <td>2022HU0367141</td>\n",
       "      <td>2</td>\n",
       "      <td>1</td>\n",
       "      <td>6111</td>\n",
       "      <td>2320</td>\n",
       "      <td>40</td>\n",
       "      <td>2022HU036714102</td>\n",
       "    </tr>\n",
       "    <tr>\n",
       "      <th>59</th>\n",
       "      <td>2022HU0449336</td>\n",
       "      <td>2</td>\n",
       "      <td>1</td>\n",
       "      <td>6111</td>\n",
       "      <td>2310</td>\n",
       "      <td>40</td>\n",
       "      <td>2022HU044933602</td>\n",
       "    </tr>\n",
       "    <tr>\n",
       "      <th>60</th>\n",
       "      <td>2022HU0455016</td>\n",
       "      <td>1</td>\n",
       "      <td>1</td>\n",
       "      <td>6111</td>\n",
       "      <td>2300</td>\n",
       "      <td>40</td>\n",
       "      <td>2022HU045501601</td>\n",
       "    </tr>\n",
       "  </tbody>\n",
       "</table>\n",
       "</div>"
      ],
      "text/plain": [
       "         SERIALNO SPORDER ESR NAICSP  OCCP WKHP             p_id\n",
       "1   2019HU0097682       2   1   6111  2310   45  2019HU009768202\n",
       "2   2019HU0289957       2   1   6111  0230   40  2019HU028995702\n",
       "3   2019HU0447417       1   1   6111  2300   40  2019HU044741701\n",
       "4   2019HU0561641       1   1   6111  2300   50  2019HU056164101\n",
       "5   2019HU0598017       1   1   6111  2310   50  2019HU059801701\n",
       "6   2019HU0691164       1   1   6111  2310   40  2019HU069116401\n",
       "7   2019HU0803948       1   1   6111  2310   40  2019HU080394801\n",
       "8   2019HU0859840       1   1   6111  2320   50  2019HU085984001\n",
       "9   2019HU0936196       1   1   6111  2310   40  2019HU093619601\n",
       "10  2019HU0936196       2   1   6111  2310   40  2019HU093619602\n",
       "11  2019HU0977021       1   1   6111  0230   40  2019HU097702101\n",
       "12  2019HU1060409       1   1   6111  2310   40  2019HU106040901\n",
       "13  2019HU1109983       1   1   6111  2310   45  2019HU110998301\n",
       "14  2019HU1109983       2   1   6111  2310   50  2019HU110998302\n",
       "15  2019HU1172652       1   1   6111  2310   40  2019HU117265201\n",
       "16  2019HU1263075       1   1   6111  2310   40  2019HU126307501\n",
       "17  2019HU1357394       1   1   6111  2320   60  2019HU135739401\n",
       "18  2019HU1368652       1   1   6111  1822   40  2019HU136865201\n",
       "19  2020HU0059835       1   1   6111  2310   40  2020HU005983501\n",
       "20  2020HU0637546       2   1   6111  2310   50  2020HU063754602\n",
       "21  2020HU0749038       2   1   6111  2310   45  2020HU074903802\n",
       "22  2020HU0780092       1   1   6111  2310   50  2020HU078009201\n",
       "23  2020HU0836609       2   1   6111  2310   40  2020HU083660902\n",
       "24  2022HU0844787       2   1   6111  2310   40  2022HU084478702\n",
       "25  2022HU0868973       2   1   6111  2310   40  2022HU086897302\n",
       "26  2022HU0931949       1   1   6111  2001   40  2022HU093194901\n",
       "27  2022HU0985928       1   1   6111  2310   48  2022HU098592801\n",
       "28  2022HU1160735       2   1   6111  2320   50  2022HU116073502\n",
       "29  2022HU1180009       2   1   6111  2310   40  2022HU118000902\n",
       "30  2022HU1237325       1   1   6111  2320   40  2022HU123732501\n",
       "31  2022HU1291461       2   1   6111  2320   40  2022HU129146102\n",
       "32  2023HU0036071       1   1   6111  2320   40  2023HU003607101\n",
       "33  2023HU0087763       2   1   6111  2310   40  2023HU008776302\n",
       "34  2023HU0148020       1   1   6111  2320   40  2023HU014802001\n",
       "35  2023HU0166595       1   1   6111  2310   45  2023HU016659501\n",
       "36  2023HU0231715       1   1   6111  2310   40  2023HU023171501\n",
       "37  2023HU0517507       1   1   6111  2310   50  2023HU051750701\n",
       "38  2023HU0566630       1   1   6111  2310   60  2023HU056663001\n",
       "39  2023HU0580471       1   1   6111  2310   40  2023HU058047101\n",
       "40  2023HU0835350       2   1   6111  0230   40  2023HU083535002\n",
       "41  2023HU1144518       3   1   6111  2310   40  2023HU114451803\n",
       "42  2023HU1358421       1   1   6111  2310   55  2023HU135842101\n",
       "43  2020HU0942181       2   1   6111  1822   40  2020HU094218102\n",
       "44  2021HU0103128       1   1   6111  2310   45  2021HU010312801\n",
       "45  2021HU0658383       1   1   6111  2320   70  2021HU065838301\n",
       "46  2021HU0873039       1   1   6111  2320   55  2021HU087303901\n",
       "47  2021HU0969626       1   1   6111  2310   65  2021HU096962601\n",
       "48  2021HU0985945       2   1   6111  2320   50  2021HU098594502\n",
       "49  2021HU1184071       2   1   6111  2310   40  2021HU118407102\n",
       "50  2021HU1253720       1   1   6111  2310   40  2021HU125372001\n",
       "51  2021HU1327895       1   1   6111  2310   60  2021HU132789501\n",
       "52  2021HU1330821       1   1   6111  2320   50  2021HU133082101\n",
       "53  2022HU0099877       1   1   6111  2310   45  2022HU009987701\n",
       "54  2022HU0141145       1   1   6111  2002   40  2022HU014114501\n",
       "55  2022HU0160486       1   1   6111  2320   40  2022HU016048601\n",
       "56  2022HU0286991       2   1   6111  1050   40  2022HU028699102\n",
       "57  2022HU0313618       1   1   6111  2310   45  2022HU031361801\n",
       "58  2022HU0367141       2   1   6111  2320   40  2022HU036714102\n",
       "59  2022HU0449336       2   1   6111  2310   40  2022HU044933602\n",
       "60  2022HU0455016       1   1   6111  2300   40  2022HU045501601"
      ]
     },
     "execution_count": 16,
     "metadata": {},
     "output_type": "execute_result"
    }
   ],
   "source": [
    "seg2"
   ]
  },
  {
   "cell_type": "markdown",
   "id": "17798426",
   "metadata": {},
   "source": [
    "Tabulation:"
   ]
  },
  {
   "cell_type": "code",
   "execution_count": 17,
   "id": "3d677518",
   "metadata": {
    "ExecuteTime": {
     "end_time": "2023-01-04T18:51:47.325193Z",
     "start_time": "2023-01-04T18:51:46.983232Z"
    },
    "execution": {
     "iopub.execute_input": "2025-01-31T14:57:31.044935Z",
     "iopub.status.busy": "2025-01-31T14:57:31.044761Z",
     "iopub.status.idle": "2025-01-31T14:57:31.260132Z",
     "shell.execute_reply": "2025-01-31T14:57:31.259849Z",
     "shell.execute_reply.started": "2025-01-31T14:57:31.044916Z"
    }
   },
   "outputs": [
    {
     "data": {
      "text/plain": [
       "sim  geoid       \n",
       "0    470930001001    18\n",
       "     470930001002    11\n",
       "     470930008001     8\n",
       "     470930008002    15\n",
       "     470930008003     3\n",
       "                     ..\n",
       "29   470930069022     1\n",
       "     470930069031     2\n",
       "     470930069032     6\n",
       "     470930070001     8\n",
       "     470930070002     1\n",
       "Length: 2640, dtype: int64"
      ]
     },
     "execution_count": 17,
     "metadata": {},
     "output_type": "execute_result"
    }
   ],
   "source": [
    "tab_seg2 = est.tabulate_by_serial(hs, seg2[\"SERIALNO\"], \"person\")\n",
    "tab_seg2"
   ]
  },
  {
   "cell_type": "markdown",
   "id": "c02bf28b",
   "metadata": {},
   "source": [
    "### 2a. Comparing Segment Estimates Across Census Areas\n",
    "\n",
    "This estimation method is more suited for geodemographic classification.  We'll stick with our K-12 educator segment from the previous example here. \n",
    "\n",
    "A necessary first step is to **normalize the estimates** to effectively relate census areas. The normalization procedure estimates the _proportion_ of the segment within each block group.  \n",
    "\n",
    "This one-liner generates the total block group population and household counts by simulation number:"
   ]
  },
  {
   "cell_type": "code",
   "execution_count": 18,
   "id": "afa79a88",
   "metadata": {
    "ExecuteTime": {
     "end_time": "2023-01-04T18:51:47.529283Z",
     "start_time": "2023-01-04T18:51:47.330407Z"
    },
    "execution": {
     "iopub.execute_input": "2025-01-31T14:57:31.260539Z",
     "iopub.status.busy": "2025-01-31T14:57:31.260465Z",
     "iopub.status.idle": "2025-01-31T14:57:31.409239Z",
     "shell.execute_reply": "2025-01-31T14:57:31.408954Z",
     "shell.execute_reply.started": "2025-01-31T14:57:31.260529Z"
    }
   },
   "outputs": [
    {
     "data": {
      "text/plain": [
       "sim  geoid       \n",
       "0    470930001001    780.601029\n",
       "     470930001002    623.325948\n",
       "     470930008001    655.580008\n",
       "     470930008002    636.731222\n",
       "     470930008003    956.239625\n",
       "                        ...    \n",
       "29   470930069022    670.617303\n",
       "     470930069031    363.618711\n",
       "     470930069032    537.073324\n",
       "     470930070001    779.185559\n",
       "     470930070002    539.332513\n",
       "Name: population, Length: 2850, dtype: float64"
      ]
     },
     "execution_count": 18,
     "metadata": {},
     "output_type": "execute_result"
    }
   ],
   "source": [
    "totalpop = est.tabulate_by_count(hs, pup.est_ind[\"population\"])\n",
    "totalpop"
   ]
  },
  {
   "cell_type": "markdown",
   "id": "15230b3e",
   "metadata": {},
   "source": [
    "With `totalpop` in hand, we can then normalize the estimates: "
   ]
  },
  {
   "cell_type": "code",
   "execution_count": 19,
   "id": "9f6317c6",
   "metadata": {
    "ExecuteTime": {
     "end_time": "2023-01-04T18:51:47.541167Z",
     "start_time": "2023-01-04T18:51:47.535045Z"
    },
    "execution": {
     "iopub.execute_input": "2025-01-31T14:57:31.409647Z",
     "iopub.status.busy": "2025-01-31T14:57:31.409580Z",
     "iopub.status.idle": "2025-01-31T14:57:31.413801Z",
     "shell.execute_reply": "2025-01-31T14:57:31.413630Z",
     "shell.execute_reply.started": "2025-01-31T14:57:31.409639Z"
    }
   },
   "outputs": [
    {
     "data": {
      "text/plain": [
       "sim  geoid       \n",
       "0    470930001001    0.023059\n",
       "     470930001002    0.017647\n",
       "     470930008001    0.012203\n",
       "     470930008002    0.023558\n",
       "     470930008003    0.003137\n",
       "                       ...   \n",
       "29   470930014003    0.000000\n",
       "     470930026002    0.000000\n",
       "     470930067002    0.000000\n",
       "     470930068004    0.000000\n",
       "     470930069011    0.000000\n",
       "Length: 2850, dtype: float64"
      ]
     },
     "execution_count": 19,
     "metadata": {},
     "output_type": "execute_result"
    }
   ],
   "source": [
    "prop_seg2 = est.to_prop(tab_seg2, totalpop)\n",
    "prop_seg2"
   ]
  },
  {
   "cell_type": "markdown",
   "id": "d62897aa",
   "metadata": {},
   "source": [
    "### 2b. Monte Carlo Estimation\n",
    "\n",
    "When comparing census areas, it is often more convenient to use estimates that are one-to-one. To achieve this, we can use Monte Carlo estimation to aggregate the simulation-level estimates (as well as gauge uncertainty). \n",
    "\n",
    "To generate the Monte Carlo estimates:"
   ]
  },
  {
   "cell_type": "code",
   "execution_count": 20,
   "id": "5cf49059",
   "metadata": {
    "ExecuteTime": {
     "end_time": "2023-01-04T18:51:47.548478Z",
     "start_time": "2023-01-04T18:51:47.545979Z"
    },
    "execution": {
     "iopub.execute_input": "2025-01-31T14:57:31.414255Z",
     "iopub.status.busy": "2025-01-31T14:57:31.414143Z",
     "iopub.status.idle": "2025-01-31T14:57:31.417479Z",
     "shell.execute_reply": "2025-01-31T14:57:31.417321Z",
     "shell.execute_reply.started": "2025-01-31T14:57:31.414248Z"
    }
   },
   "outputs": [
    {
     "data": {
      "text/html": [
       "<div>\n",
       "<style scoped>\n",
       "    .dataframe tbody tr th:only-of-type {\n",
       "        vertical-align: middle;\n",
       "    }\n",
       "\n",
       "    .dataframe tbody tr th {\n",
       "        vertical-align: top;\n",
       "    }\n",
       "\n",
       "    .dataframe thead th {\n",
       "        text-align: right;\n",
       "    }\n",
       "</style>\n",
       "<table border=\"1\" class=\"dataframe\">\n",
       "  <thead>\n",
       "    <tr style=\"text-align: right;\">\n",
       "      <th></th>\n",
       "      <th>est</th>\n",
       "      <th>se</th>\n",
       "    </tr>\n",
       "    <tr>\n",
       "      <th>geoid</th>\n",
       "      <th></th>\n",
       "      <th></th>\n",
       "    </tr>\n",
       "  </thead>\n",
       "  <tbody>\n",
       "    <tr>\n",
       "      <th>470930001001</th>\n",
       "      <td>0.022874</td>\n",
       "      <td>0.000152</td>\n",
       "    </tr>\n",
       "    <tr>\n",
       "      <th>470930001002</th>\n",
       "      <td>0.016506</td>\n",
       "      <td>0.000787</td>\n",
       "    </tr>\n",
       "    <tr>\n",
       "      <th>470930008001</th>\n",
       "      <td>0.012270</td>\n",
       "      <td>0.000101</td>\n",
       "    </tr>\n",
       "    <tr>\n",
       "      <th>470930008002</th>\n",
       "      <td>0.023094</td>\n",
       "      <td>0.000265</td>\n",
       "    </tr>\n",
       "    <tr>\n",
       "      <th>470930008003</th>\n",
       "      <td>0.003131</td>\n",
       "      <td>0.000025</td>\n",
       "    </tr>\n",
       "    <tr>\n",
       "      <th>...</th>\n",
       "      <td>...</td>\n",
       "      <td>...</td>\n",
       "    </tr>\n",
       "    <tr>\n",
       "      <th>470930069022</th>\n",
       "      <td>0.001512</td>\n",
       "      <td>0.000018</td>\n",
       "    </tr>\n",
       "    <tr>\n",
       "      <th>470930069031</th>\n",
       "      <td>0.005535</td>\n",
       "      <td>0.000044</td>\n",
       "    </tr>\n",
       "    <tr>\n",
       "      <th>470930069032</th>\n",
       "      <td>0.011160</td>\n",
       "      <td>0.000120</td>\n",
       "    </tr>\n",
       "    <tr>\n",
       "      <th>470930070001</th>\n",
       "      <td>0.010292</td>\n",
       "      <td>0.000054</td>\n",
       "    </tr>\n",
       "    <tr>\n",
       "      <th>470930070002</th>\n",
       "      <td>0.001865</td>\n",
       "      <td>0.000019</td>\n",
       "    </tr>\n",
       "  </tbody>\n",
       "</table>\n",
       "<p>95 rows × 2 columns</p>\n",
       "</div>"
      ],
      "text/plain": [
       "                   est        se\n",
       "geoid                           \n",
       "470930001001  0.022874  0.000152\n",
       "470930001002  0.016506  0.000787\n",
       "470930008001  0.012270  0.000101\n",
       "470930008002  0.023094  0.000265\n",
       "470930008003  0.003131  0.000025\n",
       "...                ...       ...\n",
       "470930069022  0.001512  0.000018\n",
       "470930069031  0.005535  0.000044\n",
       "470930069032  0.011160  0.000120\n",
       "470930070001  0.010292  0.000054\n",
       "470930070002  0.001865  0.000019\n",
       "\n",
       "[95 rows x 2 columns]"
      ]
     },
     "execution_count": 20,
     "metadata": {},
     "output_type": "execute_result"
    }
   ],
   "source": [
    "mc_prop_seg2 = est.monte_carlo_estimate(prop_seg2)\n",
    "mc_prop_seg2"
   ]
  },
  {
   "cell_type": "markdown",
   "id": "d04d27b7",
   "metadata": {},
   "source": [
    "#### Example 3b: Mapping the Estimates"
   ]
  },
  {
   "cell_type": "code",
   "execution_count": 21,
   "id": "ad107bef",
   "metadata": {
    "ExecuteTime": {
     "end_time": "2023-01-04T18:51:52.715364Z",
     "start_time": "2023-01-04T18:51:47.556092Z"
    },
    "execution": {
     "iopub.execute_input": "2025-01-31T14:57:31.419334Z",
     "iopub.status.busy": "2025-01-31T14:57:31.419270Z",
     "iopub.status.idle": "2025-01-31T14:57:33.068906Z",
     "shell.execute_reply": "2025-01-31T14:57:33.068321Z",
     "shell.execute_reply.started": "2025-01-31T14:57:31.419328Z"
    }
   },
   "outputs": [],
   "source": [
    "knox_bg = acs.extract_geographies(2023, targets=pd.unique(hs[\"geoid\"]), geo=\"bg\")"
   ]
  },
  {
   "cell_type": "code",
   "execution_count": 22,
   "id": "16cef8a9",
   "metadata": {
    "ExecuteTime": {
     "end_time": "2023-01-04T18:51:52.717821Z",
     "start_time": "2023-01-04T18:51:52.716215Z"
    },
    "execution": {
     "iopub.execute_input": "2025-01-31T14:57:33.069881Z",
     "iopub.status.busy": "2025-01-31T14:57:33.069568Z",
     "iopub.status.idle": "2025-01-31T14:57:33.072458Z",
     "shell.execute_reply": "2025-01-31T14:57:33.072106Z",
     "shell.execute_reply.started": "2025-01-31T14:57:33.069866Z"
    }
   },
   "outputs": [],
   "source": [
    "mc_prop_seg2.index.name = \"GEOID\""
   ]
  },
  {
   "cell_type": "code",
   "execution_count": 23,
   "id": "3988f97e",
   "metadata": {
    "ExecuteTime": {
     "end_time": "2023-01-04T18:51:52.720570Z",
     "start_time": "2023-01-04T18:51:52.718591Z"
    },
    "execution": {
     "iopub.execute_input": "2025-01-31T14:57:33.073378Z",
     "iopub.status.busy": "2025-01-31T14:57:33.073045Z",
     "iopub.status.idle": "2025-01-31T14:57:33.076398Z",
     "shell.execute_reply": "2025-01-31T14:57:33.076046Z",
     "shell.execute_reply.started": "2025-01-31T14:57:33.073364Z"
    }
   },
   "outputs": [],
   "source": [
    "knox_bg[\"mc_prop_seg2\"] = match(knox_bg, mc_prop_seg2.est)"
   ]
  },
  {
   "cell_type": "code",
   "execution_count": 24,
   "id": "af8bdd0e",
   "metadata": {
    "ExecuteTime": {
     "end_time": "2023-01-04T18:51:53.078818Z",
     "start_time": "2023-01-04T18:51:52.721352Z"
    },
    "execution": {
     "iopub.execute_input": "2025-01-31T14:57:33.077145Z",
     "iopub.status.busy": "2025-01-31T14:57:33.076993Z",
     "iopub.status.idle": "2025-01-31T14:57:33.323048Z",
     "shell.execute_reply": "2025-01-31T14:57:33.322805Z",
     "shell.execute_reply.started": "2025-01-31T14:57:33.077131Z"
    }
   },
   "outputs": [
    {
     "data": {
      "text/plain": [
       "<Axes: >"
      ]
     },
     "execution_count": 24,
     "metadata": {},
     "output_type": "execute_result"
    },
    {
     "data": {
      "image/png": "[encoded data removed]",
      "text/plain": [
       "<Figure size 640x480 with 2 Axes>"
      ]
     },
     "metadata": {},
     "output_type": "display_data"
    }
   ],
   "source": [
    "# plot!\n",
    "knox_bg.plot(column=\"mc_prop_seg2\", legend=True)"
   ]
  }
 ],
 "metadata": {
  "kernelspec": {
   "display_name": "Python 3 (ipykernel)",
   "language": "python",
   "name": "python3"
  },
  "language_info": {
   "codemirror_mode": {
    "name": "ipython",
    "version": 3
   },
   "file_extension": ".py",
   "mimetype": "text/x-python",
   "name": "python",
   "nbconvert_exporter": "python",
   "pygments_lexer": "ipython3",
   "version": "3.12.9"
  }
 },
 "nbformat": 4,
 "nbformat_minor": 5
}
