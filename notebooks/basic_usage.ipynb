{
 "cells": [
  {
   "cell_type": "markdown",
   "id": "83603377",
   "metadata": {},
   "source": [
    "# Livelike Basic Usage Demo"
   ]
  },
  {
   "cell_type": "markdown",
   "id": "d6b9c2ac",
   "metadata": {
    "ExecuteTime": {
     "end_time": "2021-12-21T22:00:33.802859Z",
     "start_time": "2021-12-21T22:00:33.787329Z"
    }
   },
   "source": [
    "- ACS 2014 - 2019 5-Year Estimates\n",
    "- UP Baseline Constraints: employment, industry, occupation, education\n",
    "- Knoxville City, TN PUMA (`4701603`)"
   ]
  },
  {
   "cell_type": "markdown",
   "id": "31c8adc1",
   "metadata": {},
   "source": [
    "## Setup"
   ]
  },
  {
   "cell_type": "code",
   "execution_count": 1,
   "id": "2860fed8-dbc4-41f0-8ca8-e6ced1895cc1",
   "metadata": {
    "execution": {
     "iopub.execute_input": "2025-01-31T14:55:48.590259Z",
     "iopub.status.busy": "2025-01-31T14:55:48.589944Z",
     "iopub.status.idle": "2025-01-31T14:55:48.609723Z",
     "shell.execute_reply": "2025-01-31T14:55:48.609359Z",
     "shell.execute_reply.started": "2025-01-31T14:55:48.590236Z"
    }
   },
   "outputs": [
    {
     "name": "stdout",
     "output_type": "stream",
     "text": [
      "Last updated: 2025-01-31T09:55:48.602146-05:00\n",
      "\n",
      "Python implementation: CPython\n",
      "Python version       : 3.12.8\n",
      "IPython version      : 8.31.0\n",
      "\n",
      "Compiler    : Clang 18.1.8 \n",
      "OS          : Darwin\n",
      "Release     : 24.3.0\n",
      "Machine     : arm64\n",
      "Processor   : arm\n",
      "CPU cores   : 16\n",
      "Architecture: 64bit\n",
      "\n"
     ]
    }
   ],
   "source": [
    "%load_ext watermark\n",
    "%watermark"
   ]
  },
  {
   "cell_type": "code",
   "execution_count": 2,
   "id": "cdc254a9",
   "metadata": {
    "ExecuteTime": {
     "end_time": "2023-01-04T18:48:44.030501Z",
     "start_time": "2023-01-04T18:48:33.207636Z"
    },
    "execution": {
     "iopub.execute_input": "2025-01-31T14:55:48.610489Z",
     "iopub.status.busy": "2025-01-31T14:55:48.610370Z",
     "iopub.status.idle": "2025-01-31T14:55:49.788217Z",
     "shell.execute_reply": "2025-01-31T14:55:49.787920Z",
     "shell.execute_reply.started": "2025-01-31T14:55:48.610476Z"
    }
   },
   "outputs": [
    {
     "name": "stderr",
     "output_type": "stream",
     "text": [
      "/Users/41q/gitlab_repos/likeness/likeness-vitals/likeness_vitals/__init__.py:12: FutureWarning: The ``likeness-vitals`` package is transitioning to a modular API for a cleaner top-level namespace. Classes, functions, and attributes that are currently available in the top-level will only be available within their home modules. Both the current and the updated API will be in place for at least two minor releases following the inclusion of this warning. The release at the time of this warning inclusion was ``v1.3.0``, so the current API will be stable until ``v1.5.0`` at the soonest, and the ``v2.0.0`` release will be the absolute deadline. See [https://code.ornl.gov/likeness/likeness-vitals/-/issues/32] for details on how to update dependant packages.\n",
      "  warnings.warn(\n"
     ]
    },
    {
     "name": "stdout",
     "output_type": "stream",
     "text": [
      "Watermark: 2.5.0\n",
      "\n",
      "livelike       : 1.4.2\n",
      "likeness_vitals: 1.4.3.dev6+g2e663aa\n",
      "pymedm         : 2.1.1.dev4+g785edf4\n",
      "numpy          : 2.0.2\n",
      "geopandas      : 1.0.1\n",
      "pandas         : 2.2.3\n",
      "\n"
     ]
    }
   ],
   "source": [
    "import pathlib\n",
    "\n",
    "import geopandas as gpd\n",
    "import numpy as np\n",
    "import pandas as pd\n",
    "from likeness_vitals.vitals import get_censusapikey, match\n",
    "from pymedm import PMEDM, diagnostics\n",
    "\n",
    "from livelike import acs, est, homesim\n",
    "\n",
    "%watermark -w\n",
    "%watermark -iv"
   ]
  },
  {
   "cell_type": "markdown",
   "id": "3ff9656b-6b00-485a-9701-99fab62c4d1e",
   "metadata": {
    "ExecuteTime": {
     "end_time": "2023-01-04T18:48:44.033380Z",
     "start_time": "2023-01-04T18:48:44.031466Z"
    },
    "scrolled": true
   },
   "source": [
    "### Read Census API Key"
   ]
  },
  {
   "cell_type": "code",
   "execution_count": 3,
   "id": "c518ce3c-0045-4aa2-a73f-fd7a7314e840",
   "metadata": {
    "ExecuteTime": {
     "end_time": "2023-01-04T18:48:44.033380Z",
     "start_time": "2023-01-04T18:48:44.031466Z"
    },
    "execution": {
     "iopub.execute_input": "2025-01-31T14:55:49.788667Z",
     "iopub.status.busy": "2025-01-31T14:55:49.788592Z",
     "iopub.status.idle": "2025-01-31T14:55:49.790419Z",
     "shell.execute_reply": "2025-01-31T14:55:49.790212Z",
     "shell.execute_reply.started": "2025-01-31T14:55:49.788657Z"
    },
    "scrolled": true
   },
   "outputs": [],
   "source": [
    "key = get_censusapikey(pathlib.Path(\"..\", \"\"))"
   ]
  },
  {
   "cell_type": "markdown",
   "id": "e6ef2abb",
   "metadata": {},
   "source": [
    "### Create baseline PUMA representation\n",
    "\n",
    "The `puma` class stores a representation of the PUMA based on ACS constraints. It contains the microdata and block group/tract estimates and standard errors required for P-MEDM.\n",
    "\n",
    "#### Target PUMA - Knoxville City, TN"
   ]
  },
  {
   "cell_type": "code",
   "execution_count": 4,
   "id": "779c68cc-bc16-4ece-b516-818b306a82f8",
   "metadata": {
    "ExecuteTime": {
     "end_time": "2023-01-04T18:48:44.050887Z",
     "start_time": "2023-01-04T18:48:44.049434Z"
    },
    "execution": {
     "iopub.execute_input": "2025-01-31T14:55:49.790751Z",
     "iopub.status.busy": "2025-01-31T14:55:49.790684Z",
     "iopub.status.idle": "2025-01-31T14:55:49.792290Z",
     "shell.execute_reply": "2025-01-31T14:55:49.792110Z",
     "shell.execute_reply.started": "2025-01-31T14:55:49.790742Z"
    }
   },
   "outputs": [],
   "source": [
    "p = \"4701603\""
   ]
  },
  {
   "cell_type": "markdown",
   "id": "8399b5ff-ef4b-4ead-b1b9-be21532a45bf",
   "metadata": {
    "ExecuteTime": {
     "end_time": "2023-01-04T18:49:16.184021Z",
     "start_time": "2023-01-04T18:48:44.051706Z"
    }
   },
   "source": [
    "##### Create baseline PUMA representation"
   ]
  },
  {
   "cell_type": "code",
   "execution_count": 5,
   "id": "f4435a45-46f0-49c0-abc3-94b208a6c4f9",
   "metadata": {
    "ExecuteTime": {
     "end_time": "2023-01-04T18:49:16.184021Z",
     "start_time": "2023-01-04T18:48:44.051706Z"
    },
    "execution": {
     "iopub.execute_input": "2025-01-31T14:55:49.792753Z",
     "iopub.status.busy": "2025-01-31T14:55:49.792639Z",
     "iopub.status.idle": "2025-01-31T14:56:12.716367Z",
     "shell.execute_reply": "2025-01-31T14:56:12.715806Z",
     "shell.execute_reply.started": "2025-01-31T14:55:49.792745Z"
    }
   },
   "outputs": [],
   "source": [
    "pup = acs.puma(p, censusapikey=key)"
   ]
  },
  {
   "cell_type": "markdown",
   "id": "1e3c1381",
   "metadata": {},
   "source": [
    "## Spatial Allocation with P-MEDM\n",
    "\n",
    "### Create P-MEDM object\n",
    "\n",
    "**Inputs:**\n",
    "\n",
    "- ACS vintage year.\n",
    "- The PUMS household response serial numbers (`serial`).\n",
    "- The PUMS household sample weights (`wt`)\n",
    "- Individual-level constraints (`est_ind`)\n",
    "- Tract and block group level constraints (`est_trt`, `est_bg`)\n",
    "- Tract and block group level standard errors (`se_trt`, `se_bg`)"
   ]
  },
  {
   "cell_type": "code",
   "execution_count": 6,
   "id": "0e9df05d",
   "metadata": {
    "ExecuteTime": {
     "end_time": "2023-01-04T18:50:02.752422Z",
     "start_time": "2023-01-04T18:49:16.185387Z"
    },
    "execution": {
     "iopub.execute_input": "2025-01-31T14:56:12.718973Z",
     "iopub.status.busy": "2025-01-31T14:56:12.718779Z",
     "iopub.status.idle": "2025-01-31T14:56:17.561708Z",
     "shell.execute_reply": "2025-01-31T14:56:17.561308Z",
     "shell.execute_reply.started": "2025-01-31T14:56:12.718956Z"
    }
   },
   "outputs": [],
   "source": [
    "pmd = PMEDM(\n",
    "    pup.year,\n",
    "    pup.est_ind.index,\n",
    "    pup.wt,\n",
    "    pup.est_ind,\n",
    "    pup.est_g1,\n",
    "    pup.est_g2,\n",
    "    pup.se_g1,\n",
    "    pup.se_g2,\n",
    ")"
   ]
  },
  {
   "cell_type": "markdown",
   "id": "0dc165f6-1815-47b6-9e85-8e3d9c1109f9",
   "metadata": {},
   "source": [
    "### Solve P-MEDM problem"
   ]
  },
  {
   "cell_type": "code",
   "execution_count": 7,
   "id": "9a602fa4-bac4-4bfe-b598-770cec187c71",
   "metadata": {
    "execution": {
     "iopub.execute_input": "2025-01-31T14:56:17.562138Z",
     "iopub.status.busy": "2025-01-31T14:56:17.562050Z",
     "iopub.status.idle": "2025-01-31T14:57:13.312077Z",
     "shell.execute_reply": "2025-01-31T14:57:13.311751Z",
     "shell.execute_reply.started": "2025-01-31T14:56:17.562131Z"
    }
   },
   "outputs": [],
   "source": [
    "pmd.solve()"
   ]
  },
  {
   "cell_type": "code",
   "execution_count": 8,
   "id": "507739e8-28f4-4f69-95c8-7b4988ba9fde",
   "metadata": {
    "execution": {
     "iopub.execute_input": "2025-01-31T14:57:13.312534Z",
     "iopub.status.busy": "2025-01-31T14:57:13.312451Z",
     "iopub.status.idle": "2025-01-31T14:57:13.315307Z",
     "shell.execute_reply": "2025-01-31T14:57:13.315119Z",
     "shell.execute_reply.started": "2025-01-31T14:57:13.312525Z"
    }
   },
   "outputs": [
    {
     "data": {
      "text/plain": [
       "-1.5199570129609192"
      ]
     },
     "execution_count": 8,
     "metadata": {},
     "output_type": "execute_result"
    }
   ],
   "source": [
    "# objective value\n",
    "float(pmd.res.state.value)"
   ]
  },
  {
   "cell_type": "markdown",
   "id": "5e9c94d0",
   "metadata": {},
   "source": [
    "### Diagnostics\n",
    "\n",
    "As a quick diagnostic, we measure the proportion of synthetic constraint estimates fitting the ACS 90% margins of error (MOEs), or the `moe_fit_rate`:"
   ]
  },
  {
   "cell_type": "code",
   "execution_count": 9,
   "id": "0fee6d9e",
   "metadata": {
    "ExecuteTime": {
     "end_time": "2023-01-04T18:51:35.487087Z",
     "start_time": "2023-01-04T18:51:35.320569Z"
    },
    "execution": {
     "iopub.execute_input": "2025-01-31T14:57:13.315664Z",
     "iopub.status.busy": "2025-01-31T14:57:13.315590Z",
     "iopub.status.idle": "2025-01-31T14:57:13.465800Z",
     "shell.execute_reply": "2025-01-31T14:57:13.465562Z",
     "shell.execute_reply.started": "2025-01-31T14:57:13.315656Z"
    }
   },
   "outputs": [
    {
     "data": {
      "text/plain": [
       "{'Ycomp':                          constraint   acs         pmedm           err    moe  \\\n",
       " 470930001001             population  2463  2.493757e+03  3.075748e+01  227.0   \n",
       " 470930008001             population  1697  1.735613e+03  3.861284e+01  334.0   \n",
       " 470930008002             population   574  6.004226e+02  2.642258e+01  235.0   \n",
       " 470930008003             population  1336  1.379933e+03  4.393273e+01  448.0   \n",
       " 470930009011             population  1965  1.892172e+03  7.282819e+01  299.0   \n",
       " ...                             ...   ...           ...           ...    ...   \n",
       " 470930070001  hht_nonfam_hhsize_7pm     0  1.165109e-09  1.165109e-09   12.0   \n",
       " 470930070002  hht_nonfam_hhsize_7pm     0  5.071427e-09  5.071427e-09   12.0   \n",
       " 470930071001  hht_nonfam_hhsize_7pm     0  7.470038e-19  7.470038e-19   12.0   \n",
       " 470930071002  hht_nonfam_hhsize_7pm     0  5.401840e-19  5.401840e-19   12.0   \n",
       " 470930071003  hht_nonfam_hhsize_7pm     0  7.374334e-18  7.374334e-18   12.0   \n",
       " \n",
       "               in_moe  \n",
       " 470930001001    True  \n",
       " 470930008001    True  \n",
       " 470930008002    True  \n",
       " 470930008003    True  \n",
       " 470930009011    True  \n",
       " ...              ...  \n",
       " 470930070001    True  \n",
       " 470930070002    True  \n",
       " 470930071001    True  \n",
       " 470930071002    True  \n",
       " 470930071003    True  \n",
       " \n",
       " [22035 rows x 6 columns],\n",
       " 'moe_fit_rate': np.float64(0.9997277059223962)}"
      ]
     },
     "execution_count": 9,
     "metadata": {},
     "output_type": "execute_result"
    }
   ],
   "source": [
    "diagnostics.moe_fit_rate(pup.est_ind, pup.est_g2, pup.se_g2, pmd.almat)"
   ]
  },
  {
   "cell_type": "markdown",
   "id": "9dc14fdc",
   "metadata": {},
   "source": [
    "## Population Synthesis\n",
    "\n",
    "Use Lovelace and Ballas' (2013) \"Truncate, Replicate, Sample\" method to create 30 realizations of the residential synthetic population:"
   ]
  },
  {
   "cell_type": "code",
   "execution_count": 10,
   "id": "54f915a8",
   "metadata": {
    "ExecuteTime": {
     "end_time": "2023-01-04T18:51:39.531269Z",
     "start_time": "2023-01-04T18:51:35.487945Z"
    },
    "execution": {
     "iopub.execute_input": "2025-01-31T14:57:13.466311Z",
     "iopub.status.busy": "2025-01-31T14:57:13.466230Z",
     "iopub.status.idle": "2025-01-31T14:57:24.220640Z",
     "shell.execute_reply": "2025-01-31T14:57:24.220390Z",
     "shell.execute_reply.started": "2025-01-31T14:57:13.466303Z"
    }
   },
   "outputs": [
    {
     "data": {
      "text/html": [
       "<div>\n",
       "<style scoped>\n",
       "    .dataframe tbody tr th:only-of-type {\n",
       "        vertical-align: middle;\n",
       "    }\n",
       "\n",
       "    .dataframe tbody tr th {\n",
       "        vertical-align: top;\n",
       "    }\n",
       "\n",
       "    .dataframe thead th {\n",
       "        text-align: right;\n",
       "    }\n",
       "</style>\n",
       "<table border=\"1\" class=\"dataframe\">\n",
       "  <thead>\n",
       "    <tr style=\"text-align: right;\">\n",
       "      <th></th>\n",
       "      <th>sim</th>\n",
       "      <th>geoid</th>\n",
       "      <th>count</th>\n",
       "    </tr>\n",
       "    <tr>\n",
       "      <th>h_id</th>\n",
       "      <th></th>\n",
       "      <th></th>\n",
       "      <th></th>\n",
       "    </tr>\n",
       "  </thead>\n",
       "  <tbody>\n",
       "    <tr>\n",
       "      <th>2015000010209</th>\n",
       "      <td>0</td>\n",
       "      <td>470930001001</td>\n",
       "      <td>1</td>\n",
       "    </tr>\n",
       "    <tr>\n",
       "      <th>2015000013399</th>\n",
       "      <td>0</td>\n",
       "      <td>470930001001</td>\n",
       "      <td>1</td>\n",
       "    </tr>\n",
       "    <tr>\n",
       "      <th>2015000016188</th>\n",
       "      <td>0</td>\n",
       "      <td>470930001001</td>\n",
       "      <td>1</td>\n",
       "    </tr>\n",
       "    <tr>\n",
       "      <th>2015000020218</th>\n",
       "      <td>0</td>\n",
       "      <td>470930001001</td>\n",
       "      <td>2</td>\n",
       "    </tr>\n",
       "    <tr>\n",
       "      <th>2015000039553</th>\n",
       "      <td>0</td>\n",
       "      <td>470930001001</td>\n",
       "      <td>1</td>\n",
       "    </tr>\n",
       "    <tr>\n",
       "      <th>...</th>\n",
       "      <td>...</td>\n",
       "      <td>...</td>\n",
       "      <td>...</td>\n",
       "    </tr>\n",
       "    <tr>\n",
       "      <th>2019HU1295854</th>\n",
       "      <td>29</td>\n",
       "      <td>470930071003</td>\n",
       "      <td>1</td>\n",
       "    </tr>\n",
       "    <tr>\n",
       "      <th>2019HU1303896</th>\n",
       "      <td>29</td>\n",
       "      <td>470930071003</td>\n",
       "      <td>2</td>\n",
       "    </tr>\n",
       "    <tr>\n",
       "      <th>2019HU1362049</th>\n",
       "      <td>29</td>\n",
       "      <td>470930071003</td>\n",
       "      <td>1</td>\n",
       "    </tr>\n",
       "    <tr>\n",
       "      <th>2019HU1374161</th>\n",
       "      <td>29</td>\n",
       "      <td>470930071003</td>\n",
       "      <td>1</td>\n",
       "    </tr>\n",
       "    <tr>\n",
       "      <th>2019HU1411072</th>\n",
       "      <td>29</td>\n",
       "      <td>470930071003</td>\n",
       "      <td>1</td>\n",
       "    </tr>\n",
       "  </tbody>\n",
       "</table>\n",
       "<p>1945143 rows × 3 columns</p>\n",
       "</div>"
      ],
      "text/plain": [
       "               sim         geoid  count\n",
       "h_id                                   \n",
       "2015000010209    0  470930001001      1\n",
       "2015000013399    0  470930001001      1\n",
       "2015000016188    0  470930001001      1\n",
       "2015000020218    0  470930001001      2\n",
       "2015000039553    0  470930001001      1\n",
       "...            ...           ...    ...\n",
       "2019HU1295854   29  470930071003      1\n",
       "2019HU1303896   29  470930071003      2\n",
       "2019HU1362049   29  470930071003      1\n",
       "2019HU1374161   29  470930071003      1\n",
       "2019HU1411072   29  470930071003      1\n",
       "\n",
       "[1945143 rows x 3 columns]"
      ]
     },
     "execution_count": 10,
     "metadata": {},
     "output_type": "execute_result"
    }
   ],
   "source": [
    "hs = homesim.synthesize(\n",
    "    pmd.almat,\n",
    "    pup.est_ind,\n",
    "    pup.est_g2,\n",
    "    pup.sporder,\n",
    "    random_state=int(pup.fips),\n",
    ")\n",
    "hs"
   ]
  },
  {
   "cell_type": "markdown",
   "id": "3680f6b9",
   "metadata": {},
   "source": [
    "## Application 1: Creating Agents for `actlike`\n",
    "\n",
    "For this example, we'll focus on tabulating 10th grade public school students. We will identify matching person-level records from the PUMS by querying the Census Microdata API on two criteria:\n",
    "\n",
    "- Public School Student {`SCH` : 2}\n",
    "- Attending 10th Grade {`SCHG` : 12}\n",
    "\n",
    "We set up our API query by separating these conditions with an `&`, as:"
   ]
  },
  {
   "cell_type": "code",
   "execution_count": 11,
   "id": "92f3b042",
   "metadata": {
    "ExecuteTime": {
     "end_time": "2023-01-04T18:51:39.533802Z",
     "start_time": "2023-01-04T18:51:39.532183Z"
    },
    "execution": {
     "iopub.execute_input": "2025-01-31T14:57:24.221159Z",
     "iopub.status.busy": "2025-01-31T14:57:24.221067Z",
     "iopub.status.idle": "2025-01-31T14:57:24.222711Z",
     "shell.execute_reply": "2025-01-31T14:57:24.222455Z",
     "shell.execute_reply.started": "2025-01-31T14:57:24.221151Z"
    }
   },
   "outputs": [],
   "source": [
    "# API query\n",
    "q1 = \"SCH=2&SCHG=12\""
   ]
  },
  {
   "cell_type": "code",
   "execution_count": 12,
   "id": "2691544e",
   "metadata": {
    "ExecuteTime": {
     "end_time": "2023-01-04T18:51:41.210137Z",
     "start_time": "2023-01-04T18:51:39.534504Z"
    },
    "execution": {
     "iopub.execute_input": "2025-01-31T14:57:24.223109Z",
     "iopub.status.busy": "2025-01-31T14:57:24.223039Z",
     "iopub.status.idle": "2025-01-31T14:57:25.589482Z",
     "shell.execute_reply": "2025-01-31T14:57:25.588651Z",
     "shell.execute_reply.started": "2025-01-31T14:57:24.223100Z"
    }
   },
   "outputs": [],
   "source": [
    "seg1_extract = acs.extract_pums_segment_ids(p, \"person\", q1)"
   ]
  },
  {
   "cell_type": "markdown",
   "id": "42d7bd2c",
   "metadata": {},
   "source": [
    "Then, create the agents by merging the extract with our synthetic population (`hs`): "
   ]
  },
  {
   "cell_type": "code",
   "execution_count": 13,
   "id": "6bc8f97c",
   "metadata": {
    "ExecuteTime": {
     "end_time": "2023-01-04T18:51:41.336027Z",
     "start_time": "2023-01-04T18:51:41.213738Z"
    },
    "execution": {
     "iopub.execute_input": "2025-01-31T14:57:25.590814Z",
     "iopub.status.busy": "2025-01-31T14:57:25.590418Z",
     "iopub.status.idle": "2025-01-31T14:57:25.677804Z",
     "shell.execute_reply": "2025-01-31T14:57:25.677505Z",
     "shell.execute_reply.started": "2025-01-31T14:57:25.590770Z"
    }
   },
   "outputs": [
    {
     "data": {
      "text/html": [
       "<div>\n",
       "<style scoped>\n",
       "    .dataframe tbody tr th:only-of-type {\n",
       "        vertical-align: middle;\n",
       "    }\n",
       "\n",
       "    .dataframe tbody tr th {\n",
       "        vertical-align: top;\n",
       "    }\n",
       "\n",
       "    .dataframe thead th {\n",
       "        text-align: right;\n",
       "    }\n",
       "</style>\n",
       "<table border=\"1\" class=\"dataframe\">\n",
       "  <thead>\n",
       "    <tr style=\"text-align: right;\">\n",
       "      <th></th>\n",
       "      <th>sim</th>\n",
       "      <th>geoid</th>\n",
       "      <th>count</th>\n",
       "      <th>SERIALNO</th>\n",
       "      <th>p_id</th>\n",
       "    </tr>\n",
       "  </thead>\n",
       "  <tbody>\n",
       "    <tr>\n",
       "      <th>0</th>\n",
       "      <td>0</td>\n",
       "      <td>470930001001</td>\n",
       "      <td>1</td>\n",
       "      <td>2019HU1036451</td>\n",
       "      <td>2019HU103645102</td>\n",
       "    </tr>\n",
       "    <tr>\n",
       "      <th>1</th>\n",
       "      <td>0</td>\n",
       "      <td>470930008001</td>\n",
       "      <td>1</td>\n",
       "      <td>2018HU0602624</td>\n",
       "      <td>2018HU060262402</td>\n",
       "    </tr>\n",
       "    <tr>\n",
       "      <th>2</th>\n",
       "      <td>0</td>\n",
       "      <td>470930008002</td>\n",
       "      <td>1</td>\n",
       "      <td>2015000400808</td>\n",
       "      <td>201500040080802</td>\n",
       "    </tr>\n",
       "    <tr>\n",
       "      <th>3</th>\n",
       "      <td>0</td>\n",
       "      <td>470930008002</td>\n",
       "      <td>1</td>\n",
       "      <td>2015000487536</td>\n",
       "      <td>201500048753602</td>\n",
       "    </tr>\n",
       "    <tr>\n",
       "      <th>4</th>\n",
       "      <td>0</td>\n",
       "      <td>470930008002</td>\n",
       "      <td>1</td>\n",
       "      <td>2015000889349</td>\n",
       "      <td>201500088934904</td>\n",
       "    </tr>\n",
       "    <tr>\n",
       "      <th>...</th>\n",
       "      <td>...</td>\n",
       "      <td>...</td>\n",
       "      <td>...</td>\n",
       "      <td>...</td>\n",
       "      <td>...</td>\n",
       "    </tr>\n",
       "    <tr>\n",
       "      <th>20827</th>\n",
       "      <td>29</td>\n",
       "      <td>470930071003</td>\n",
       "      <td>1</td>\n",
       "      <td>2017001310689</td>\n",
       "      <td>201700131068902</td>\n",
       "    </tr>\n",
       "    <tr>\n",
       "      <th>20828</th>\n",
       "      <td>29</td>\n",
       "      <td>470930071003</td>\n",
       "      <td>1</td>\n",
       "      <td>2018HU0251309</td>\n",
       "      <td>2018HU025130903</td>\n",
       "    </tr>\n",
       "    <tr>\n",
       "      <th>20829</th>\n",
       "      <td>29</td>\n",
       "      <td>470930071003</td>\n",
       "      <td>1</td>\n",
       "      <td>2018HU1036109</td>\n",
       "      <td>2018HU103610904</td>\n",
       "    </tr>\n",
       "    <tr>\n",
       "      <th>20830</th>\n",
       "      <td>29</td>\n",
       "      <td>470930071003</td>\n",
       "      <td>1</td>\n",
       "      <td>2019HU0146307</td>\n",
       "      <td>2019HU014630702</td>\n",
       "    </tr>\n",
       "    <tr>\n",
       "      <th>20831</th>\n",
       "      <td>29</td>\n",
       "      <td>470930071003</td>\n",
       "      <td>2</td>\n",
       "      <td>2019HU1303896</td>\n",
       "      <td>2019HU130389604</td>\n",
       "    </tr>\n",
       "  </tbody>\n",
       "</table>\n",
       "<p>20832 rows × 5 columns</p>\n",
       "</div>"
      ],
      "text/plain": [
       "       sim         geoid  count       SERIALNO             p_id\n",
       "0        0  470930001001      1  2019HU1036451  2019HU103645102\n",
       "1        0  470930008001      1  2018HU0602624  2018HU060262402\n",
       "2        0  470930008002      1  2015000400808  201500040080802\n",
       "3        0  470930008002      1  2015000487536  201500048753602\n",
       "4        0  470930008002      1  2015000889349  201500088934904\n",
       "...    ...           ...    ...            ...              ...\n",
       "20827   29  470930071003      1  2017001310689  201700131068902\n",
       "20828   29  470930071003      1  2018HU0251309  2018HU025130903\n",
       "20829   29  470930071003      1  2018HU1036109  2018HU103610904\n",
       "20830   29  470930071003      1  2019HU0146307  2019HU014630702\n",
       "20831   29  470930071003      2  2019HU1303896  2019HU130389604\n",
       "\n",
       "[20832 rows x 5 columns]"
      ]
     },
     "execution_count": 13,
     "metadata": {},
     "output_type": "execute_result"
    }
   ],
   "source": [
    "seg1 = hs.merge(\n",
    "    seg1_extract.loc[:, [\"SERIALNO\", \"p_id\"]], left_on=\"h_id\", right_on=\"SERIALNO\"\n",
    ")\n",
    "seg1"
   ]
  },
  {
   "cell_type": "markdown",
   "id": "fdc397a1",
   "metadata": {},
   "source": [
    "## Application 2: Tabulating Segments\n",
    "\n",
    "Sometimes we require more specific criteria to select segments than what is available in our P-MEDM constraints (i.e., occupation class, NAICS code, hours worked). We can fetch additional PUMS variables related to the constraints from the Census Microdata API query and then link them to our synthetic populations.\n",
    "\n",
    "For this example, we'll estimate the counts of full-time workers in K-12 schools, specifically:\n",
    "\n",
    "- Employed full time and currently at work (`ESR == 1`)\n",
    "- Working in elementary or secondary schools (`NAICSP == 6111`)\n",
    "- In a preschool, kindergarten, primary, or secondary school teaching position (`{OCCP : [2300, 2310, 2320]}`)\n",
    "- Working 40+ hours per week (`WKHP >= 40`)\n",
    "\n",
    "Begin by generating the new API query:"
   ]
  },
  {
   "cell_type": "code",
   "execution_count": 14,
   "id": "16de341f",
   "metadata": {
    "ExecuteTime": {
     "end_time": "2023-01-04T18:51:41.343957Z",
     "start_time": "2023-01-04T18:51:41.342493Z"
    },
    "execution": {
     "iopub.execute_input": "2025-01-31T14:57:25.678236Z",
     "iopub.status.busy": "2025-01-31T14:57:25.678164Z",
     "iopub.status.idle": "2025-01-31T14:57:25.679810Z",
     "shell.execute_reply": "2025-01-31T14:57:25.679598Z",
     "shell.execute_reply.started": "2025-01-31T14:57:25.678229Z"
    }
   },
   "outputs": [],
   "source": [
    "q2 = \"ESR=1&NAICSP=6111&OCCP=2300:2320&WKHP=40:999\""
   ]
  },
  {
   "cell_type": "markdown",
   "id": "650bdde1",
   "metadata": {},
   "source": [
    "A `>=` operator does not seem to be availble for CMD API requests, so `40:999` is used in its place.\n",
    "\n",
    "Now make the API extract:"
   ]
  },
  {
   "cell_type": "code",
   "execution_count": 15,
   "id": "d9744712",
   "metadata": {
    "ExecuteTime": {
     "end_time": "2023-01-04T18:51:46.965289Z",
     "start_time": "2023-01-04T18:51:41.344681Z"
    },
    "execution": {
     "iopub.execute_input": "2025-01-31T14:57:25.680204Z",
     "iopub.status.busy": "2025-01-31T14:57:25.680129Z",
     "iopub.status.idle": "2025-01-31T14:57:31.021206Z",
     "shell.execute_reply": "2025-01-31T14:57:31.020046Z",
     "shell.execute_reply.started": "2025-01-31T14:57:25.680196Z"
    }
   },
   "outputs": [],
   "source": [
    "seg2 = acs.extract_pums_segment_ids(p, \"person\", q2, censusapikey=key)"
   ]
  },
  {
   "cell_type": "markdown",
   "id": "06672ab2",
   "metadata": {},
   "source": [
    "This returns a DataFrame containing the household ID (`SERIALNO`) and household structure (`SPORDER`) for each matching respondent in the PUMS:"
   ]
  },
  {
   "cell_type": "code",
   "execution_count": 16,
   "id": "ac61225d",
   "metadata": {
    "ExecuteTime": {
     "end_time": "2023-01-04T18:51:46.981087Z",
     "start_time": "2023-01-04T18:51:46.968510Z"
    },
    "execution": {
     "iopub.execute_input": "2025-01-31T14:57:31.023249Z",
     "iopub.status.busy": "2025-01-31T14:57:31.022886Z",
     "iopub.status.idle": "2025-01-31T14:57:31.044183Z",
     "shell.execute_reply": "2025-01-31T14:57:31.043498Z",
     "shell.execute_reply.started": "2025-01-31T14:57:31.023209Z"
    }
   },
   "outputs": [
    {
     "data": {
      "text/html": [
       "<div>\n",
       "<style scoped>\n",
       "    .dataframe tbody tr th:only-of-type {\n",
       "        vertical-align: middle;\n",
       "    }\n",
       "\n",
       "    .dataframe tbody tr th {\n",
       "        vertical-align: top;\n",
       "    }\n",
       "\n",
       "    .dataframe thead th {\n",
       "        text-align: right;\n",
       "    }\n",
       "</style>\n",
       "<table border=\"1\" class=\"dataframe\">\n",
       "  <thead>\n",
       "    <tr style=\"text-align: right;\">\n",
       "      <th></th>\n",
       "      <th>SERIALNO</th>\n",
       "      <th>SPORDER</th>\n",
       "      <th>ESR</th>\n",
       "      <th>NAICSP</th>\n",
       "      <th>OCCP</th>\n",
       "      <th>WKHP</th>\n",
       "      <th>p_id</th>\n",
       "    </tr>\n",
       "  </thead>\n",
       "  <tbody>\n",
       "    <tr>\n",
       "      <th>1</th>\n",
       "      <td>2015000145535</td>\n",
       "      <td>1</td>\n",
       "      <td>1</td>\n",
       "      <td>6111</td>\n",
       "      <td>2310</td>\n",
       "      <td>60</td>\n",
       "      <td>201500014553501</td>\n",
       "    </tr>\n",
       "    <tr>\n",
       "      <th>2</th>\n",
       "      <td>2015000238376</td>\n",
       "      <td>1</td>\n",
       "      <td>1</td>\n",
       "      <td>6111</td>\n",
       "      <td>2310</td>\n",
       "      <td>40</td>\n",
       "      <td>201500023837601</td>\n",
       "    </tr>\n",
       "    <tr>\n",
       "      <th>3</th>\n",
       "      <td>2015000674050</td>\n",
       "      <td>1</td>\n",
       "      <td>1</td>\n",
       "      <td>6111</td>\n",
       "      <td>2310</td>\n",
       "      <td>40</td>\n",
       "      <td>201500067405001</td>\n",
       "    </tr>\n",
       "    <tr>\n",
       "      <th>4</th>\n",
       "      <td>2015000846436</td>\n",
       "      <td>2</td>\n",
       "      <td>1</td>\n",
       "      <td>6111</td>\n",
       "      <td>2320</td>\n",
       "      <td>40</td>\n",
       "      <td>201500084643602</td>\n",
       "    </tr>\n",
       "    <tr>\n",
       "      <th>5</th>\n",
       "      <td>2015001439070</td>\n",
       "      <td>2</td>\n",
       "      <td>1</td>\n",
       "      <td>6111</td>\n",
       "      <td>2310</td>\n",
       "      <td>40</td>\n",
       "      <td>201500143907002</td>\n",
       "    </tr>\n",
       "    <tr>\n",
       "      <th>...</th>\n",
       "      <td>...</td>\n",
       "      <td>...</td>\n",
       "      <td>...</td>\n",
       "      <td>...</td>\n",
       "      <td>...</td>\n",
       "      <td>...</td>\n",
       "      <td>...</td>\n",
       "    </tr>\n",
       "    <tr>\n",
       "      <th>99</th>\n",
       "      <td>2019HU1120059</td>\n",
       "      <td>1</td>\n",
       "      <td>1</td>\n",
       "      <td>6111</td>\n",
       "      <td>2320</td>\n",
       "      <td>40</td>\n",
       "      <td>2019HU112005901</td>\n",
       "    </tr>\n",
       "    <tr>\n",
       "      <th>100</th>\n",
       "      <td>2019HU1172652</td>\n",
       "      <td>1</td>\n",
       "      <td>1</td>\n",
       "      <td>6111</td>\n",
       "      <td>2310</td>\n",
       "      <td>40</td>\n",
       "      <td>2019HU117265201</td>\n",
       "    </tr>\n",
       "    <tr>\n",
       "      <th>101</th>\n",
       "      <td>2019HU1240260</td>\n",
       "      <td>2</td>\n",
       "      <td>1</td>\n",
       "      <td>6111</td>\n",
       "      <td>2310</td>\n",
       "      <td>40</td>\n",
       "      <td>2019HU124026002</td>\n",
       "    </tr>\n",
       "    <tr>\n",
       "      <th>102</th>\n",
       "      <td>2019HU1329436</td>\n",
       "      <td>2</td>\n",
       "      <td>1</td>\n",
       "      <td>6111</td>\n",
       "      <td>2310</td>\n",
       "      <td>50</td>\n",
       "      <td>2019HU132943602</td>\n",
       "    </tr>\n",
       "    <tr>\n",
       "      <th>103</th>\n",
       "      <td>2019HU1357394</td>\n",
       "      <td>1</td>\n",
       "      <td>1</td>\n",
       "      <td>6111</td>\n",
       "      <td>2320</td>\n",
       "      <td>60</td>\n",
       "      <td>2019HU135739401</td>\n",
       "    </tr>\n",
       "  </tbody>\n",
       "</table>\n",
       "<p>103 rows × 7 columns</p>\n",
       "</div>"
      ],
      "text/plain": [
       "          SERIALNO SPORDER ESR NAICSP  OCCP WKHP             p_id\n",
       "1    2015000145535       1   1   6111  2310   60  201500014553501\n",
       "2    2015000238376       1   1   6111  2310   40  201500023837601\n",
       "3    2015000674050       1   1   6111  2310   40  201500067405001\n",
       "4    2015000846436       2   1   6111  2320   40  201500084643602\n",
       "5    2015001439070       2   1   6111  2310   40  201500143907002\n",
       "..             ...     ...  ..    ...   ...  ...              ...\n",
       "99   2019HU1120059       1   1   6111  2320   40  2019HU112005901\n",
       "100  2019HU1172652       1   1   6111  2310   40  2019HU117265201\n",
       "101  2019HU1240260       2   1   6111  2310   40  2019HU124026002\n",
       "102  2019HU1329436       2   1   6111  2310   50  2019HU132943602\n",
       "103  2019HU1357394       1   1   6111  2320   60  2019HU135739401\n",
       "\n",
       "[103 rows x 7 columns]"
      ]
     },
     "execution_count": 16,
     "metadata": {},
     "output_type": "execute_result"
    }
   ],
   "source": [
    "seg2"
   ]
  },
  {
   "cell_type": "markdown",
   "id": "17798426",
   "metadata": {},
   "source": [
    "Tabulation:"
   ]
  },
  {
   "cell_type": "code",
   "execution_count": 17,
   "id": "3d677518",
   "metadata": {
    "ExecuteTime": {
     "end_time": "2023-01-04T18:51:47.325193Z",
     "start_time": "2023-01-04T18:51:46.983232Z"
    },
    "execution": {
     "iopub.execute_input": "2025-01-31T14:57:31.044935Z",
     "iopub.status.busy": "2025-01-31T14:57:31.044761Z",
     "iopub.status.idle": "2025-01-31T14:57:31.260132Z",
     "shell.execute_reply": "2025-01-31T14:57:31.259849Z",
     "shell.execute_reply.started": "2025-01-31T14:57:31.044916Z"
    }
   },
   "outputs": [
    {
     "data": {
      "text/plain": [
       "sim  geoid       \n",
       "0    470930001001    26\n",
       "     470930008001     5\n",
       "     470930008002     1\n",
       "     470930008003     7\n",
       "     470930009022     1\n",
       "                     ..\n",
       "29   470930070001     3\n",
       "     470930070002     2\n",
       "     470930071001    26\n",
       "     470930071002    23\n",
       "     470930071003    12\n",
       "Length: 3170, dtype: int64"
      ]
     },
     "execution_count": 17,
     "metadata": {},
     "output_type": "execute_result"
    }
   ],
   "source": [
    "tab_seg2 = est.tabulate_by_serial(hs, seg2[\"SERIALNO\"], \"person\")\n",
    "tab_seg2"
   ]
  },
  {
   "cell_type": "markdown",
   "id": "c02bf28b",
   "metadata": {},
   "source": [
    "### 2a. Comparing Segment Estimates Across Census Areas\n",
    "\n",
    "This estimation method is more suited for geodemographic classification (`bundleUP`).  We'll stick with our K-12 educator segment from the previous example here. \n",
    "\n",
    "A necessary first step is to **normalize the estimates** to effectively relate census areas. The normalization procedure estimates the _proportion_ of the segment within each block group.  \n",
    "\n",
    "This one-liner generates the total block group population and household counts by simulation number:"
   ]
  },
  {
   "cell_type": "code",
   "execution_count": 18,
   "id": "afa79a88",
   "metadata": {
    "ExecuteTime": {
     "end_time": "2023-01-04T18:51:47.529283Z",
     "start_time": "2023-01-04T18:51:47.330407Z"
    },
    "execution": {
     "iopub.execute_input": "2025-01-31T14:57:31.260539Z",
     "iopub.status.busy": "2025-01-31T14:57:31.260465Z",
     "iopub.status.idle": "2025-01-31T14:57:31.409239Z",
     "shell.execute_reply": "2025-01-31T14:57:31.408954Z",
     "shell.execute_reply.started": "2025-01-31T14:57:31.260529Z"
    }
   },
   "outputs": [
    {
     "data": {
      "text/plain": [
       "sim  geoid       \n",
       "0    470930001001    1443.027759\n",
       "     470930008001     906.748213\n",
       "     470930008002     444.413767\n",
       "     470930008003     791.572536\n",
       "     470930009011     451.527778\n",
       "                        ...     \n",
       "29   470930070001     779.288621\n",
       "     470930070002     819.770560\n",
       "     470930071001    1063.940702\n",
       "     470930071002     886.079059\n",
       "     470930071003     637.091308\n",
       "Name: population, Length: 3390, dtype: float64"
      ]
     },
     "execution_count": 18,
     "metadata": {},
     "output_type": "execute_result"
    }
   ],
   "source": [
    "totalpop = est.tabulate_by_count(hs, pup.est_ind[\"population\"])\n",
    "totalpop"
   ]
  },
  {
   "cell_type": "markdown",
   "id": "15230b3e",
   "metadata": {},
   "source": [
    "With `totalpop` in hand, we can then normalize the estimates: "
   ]
  },
  {
   "cell_type": "code",
   "execution_count": 19,
   "id": "9f6317c6",
   "metadata": {
    "ExecuteTime": {
     "end_time": "2023-01-04T18:51:47.541167Z",
     "start_time": "2023-01-04T18:51:47.535045Z"
    },
    "execution": {
     "iopub.execute_input": "2025-01-31T14:57:31.409647Z",
     "iopub.status.busy": "2025-01-31T14:57:31.409580Z",
     "iopub.status.idle": "2025-01-31T14:57:31.413801Z",
     "shell.execute_reply": "2025-01-31T14:57:31.413630Z",
     "shell.execute_reply.started": "2025-01-31T14:57:31.409639Z"
    }
   },
   "outputs": [
    {
     "data": {
      "text/plain": [
       "sim  geoid       \n",
       "0    470930001001    0.018018\n",
       "     470930008001    0.005514\n",
       "     470930008002    0.002250\n",
       "     470930008003    0.008843\n",
       "     470930009022    0.002014\n",
       "                       ...   \n",
       "29   470930014001    0.000000\n",
       "     470930014002    0.000000\n",
       "     470930014003    0.000000\n",
       "     470930020003    0.000000\n",
       "     470930037002    0.000000\n",
       "Length: 3390, dtype: float64"
      ]
     },
     "execution_count": 19,
     "metadata": {},
     "output_type": "execute_result"
    }
   ],
   "source": [
    "prop_seg2 = est.to_prop(tab_seg2, totalpop)\n",
    "prop_seg2"
   ]
  },
  {
   "cell_type": "markdown",
   "id": "d62897aa",
   "metadata": {},
   "source": [
    "### 2b. Monte Carlo Estimation\n",
    "\n",
    "When comparing census areas, it is often more convenient to use estimates that are one-to-one. To achieve this, we can use Monte Carlo estimation to aggregate the simulation-level estimates (as well as gauge uncertainty). \n",
    "\n",
    "To generate the Monte Carlo estimates:"
   ]
  },
  {
   "cell_type": "code",
   "execution_count": 20,
   "id": "5cf49059",
   "metadata": {
    "ExecuteTime": {
     "end_time": "2023-01-04T18:51:47.548478Z",
     "start_time": "2023-01-04T18:51:47.545979Z"
    },
    "execution": {
     "iopub.execute_input": "2025-01-31T14:57:31.414255Z",
     "iopub.status.busy": "2025-01-31T14:57:31.414143Z",
     "iopub.status.idle": "2025-01-31T14:57:31.417479Z",
     "shell.execute_reply": "2025-01-31T14:57:31.417321Z",
     "shell.execute_reply.started": "2025-01-31T14:57:31.414248Z"
    }
   },
   "outputs": [
    {
     "data": {
      "text/html": [
       "<div>\n",
       "<style scoped>\n",
       "    .dataframe tbody tr th:only-of-type {\n",
       "        vertical-align: middle;\n",
       "    }\n",
       "\n",
       "    .dataframe tbody tr th {\n",
       "        vertical-align: top;\n",
       "    }\n",
       "\n",
       "    .dataframe thead th {\n",
       "        text-align: right;\n",
       "    }\n",
       "</style>\n",
       "<table border=\"1\" class=\"dataframe\">\n",
       "  <thead>\n",
       "    <tr style=\"text-align: right;\">\n",
       "      <th></th>\n",
       "      <th>est</th>\n",
       "      <th>se</th>\n",
       "    </tr>\n",
       "    <tr>\n",
       "      <th>geoid</th>\n",
       "      <th></th>\n",
       "      <th></th>\n",
       "    </tr>\n",
       "  </thead>\n",
       "  <tbody>\n",
       "    <tr>\n",
       "      <th>470930001001</th>\n",
       "      <td>0.018449</td>\n",
       "      <td>0.000287</td>\n",
       "    </tr>\n",
       "    <tr>\n",
       "      <th>470930008001</th>\n",
       "      <td>0.005498</td>\n",
       "      <td>0.000032</td>\n",
       "    </tr>\n",
       "    <tr>\n",
       "      <th>470930008002</th>\n",
       "      <td>0.002256</td>\n",
       "      <td>0.000025</td>\n",
       "    </tr>\n",
       "    <tr>\n",
       "      <th>470930008003</th>\n",
       "      <td>0.008861</td>\n",
       "      <td>0.000051</td>\n",
       "    </tr>\n",
       "    <tr>\n",
       "      <th>470930009011</th>\n",
       "      <td>0.000000</td>\n",
       "      <td>0.000000</td>\n",
       "    </tr>\n",
       "    <tr>\n",
       "      <th>...</th>\n",
       "      <td>...</td>\n",
       "      <td>...</td>\n",
       "    </tr>\n",
       "    <tr>\n",
       "      <th>470930070001</th>\n",
       "      <td>0.003852</td>\n",
       "      <td>0.000026</td>\n",
       "    </tr>\n",
       "    <tr>\n",
       "      <th>470930070002</th>\n",
       "      <td>0.002463</td>\n",
       "      <td>0.000013</td>\n",
       "    </tr>\n",
       "    <tr>\n",
       "      <th>470930071001</th>\n",
       "      <td>0.025183</td>\n",
       "      <td>0.000495</td>\n",
       "    </tr>\n",
       "    <tr>\n",
       "      <th>470930071002</th>\n",
       "      <td>0.025975</td>\n",
       "      <td>0.000098</td>\n",
       "    </tr>\n",
       "    <tr>\n",
       "      <th>470930071003</th>\n",
       "      <td>0.018749</td>\n",
       "      <td>0.000149</td>\n",
       "    </tr>\n",
       "  </tbody>\n",
       "</table>\n",
       "<p>113 rows × 2 columns</p>\n",
       "</div>"
      ],
      "text/plain": [
       "                   est        se\n",
       "geoid                           \n",
       "470930001001  0.018449  0.000287\n",
       "470930008001  0.005498  0.000032\n",
       "470930008002  0.002256  0.000025\n",
       "470930008003  0.008861  0.000051\n",
       "470930009011  0.000000  0.000000\n",
       "...                ...       ...\n",
       "470930070001  0.003852  0.000026\n",
       "470930070002  0.002463  0.000013\n",
       "470930071001  0.025183  0.000495\n",
       "470930071002  0.025975  0.000098\n",
       "470930071003  0.018749  0.000149\n",
       "\n",
       "[113 rows x 2 columns]"
      ]
     },
     "execution_count": 20,
     "metadata": {},
     "output_type": "execute_result"
    }
   ],
   "source": [
    "mc_prop_seg2 = est.monte_carlo_estimate(prop_seg2)\n",
    "mc_prop_seg2"
   ]
  },
  {
   "cell_type": "markdown",
   "id": "d04d27b7",
   "metadata": {},
   "source": [
    "#### Example 3b: Mapping the Estimates"
   ]
  },
  {
   "cell_type": "code",
   "execution_count": 21,
   "id": "ad107bef",
   "metadata": {
    "ExecuteTime": {
     "end_time": "2023-01-04T18:51:52.715364Z",
     "start_time": "2023-01-04T18:51:47.556092Z"
    },
    "execution": {
     "iopub.execute_input": "2025-01-31T14:57:31.419334Z",
     "iopub.status.busy": "2025-01-31T14:57:31.419270Z",
     "iopub.status.idle": "2025-01-31T14:57:33.068906Z",
     "shell.execute_reply": "2025-01-31T14:57:33.068321Z",
     "shell.execute_reply.started": "2025-01-31T14:57:31.419328Z"
    }
   },
   "outputs": [],
   "source": [
    "knox_bg = acs.extract_geographies(2019, targets=pd.unique(hs[\"geoid\"]), geo=\"bg\")"
   ]
  },
  {
   "cell_type": "code",
   "execution_count": 22,
   "id": "16cef8a9",
   "metadata": {
    "ExecuteTime": {
     "end_time": "2023-01-04T18:51:52.717821Z",
     "start_time": "2023-01-04T18:51:52.716215Z"
    },
    "execution": {
     "iopub.execute_input": "2025-01-31T14:57:33.069881Z",
     "iopub.status.busy": "2025-01-31T14:57:33.069568Z",
     "iopub.status.idle": "2025-01-31T14:57:33.072458Z",
     "shell.execute_reply": "2025-01-31T14:57:33.072106Z",
     "shell.execute_reply.started": "2025-01-31T14:57:33.069866Z"
    }
   },
   "outputs": [],
   "source": [
    "mc_prop_seg2.index.name = \"GEOID\""
   ]
  },
  {
   "cell_type": "code",
   "execution_count": 23,
   "id": "3988f97e",
   "metadata": {
    "ExecuteTime": {
     "end_time": "2023-01-04T18:51:52.720570Z",
     "start_time": "2023-01-04T18:51:52.718591Z"
    },
    "execution": {
     "iopub.execute_input": "2025-01-31T14:57:33.073378Z",
     "iopub.status.busy": "2025-01-31T14:57:33.073045Z",
     "iopub.status.idle": "2025-01-31T14:57:33.076398Z",
     "shell.execute_reply": "2025-01-31T14:57:33.076046Z",
     "shell.execute_reply.started": "2025-01-31T14:57:33.073364Z"
    }
   },
   "outputs": [],
   "source": [
    "knox_bg[\"mc_prop_seg2\"] = match(knox_bg, mc_prop_seg2.est)"
   ]
  },
  {
   "cell_type": "code",
   "execution_count": 24,
   "id": "af8bdd0e",
   "metadata": {
    "ExecuteTime": {
     "end_time": "2023-01-04T18:51:53.078818Z",
     "start_time": "2023-01-04T18:51:52.721352Z"
    },
    "execution": {
     "iopub.execute_input": "2025-01-31T14:57:33.077145Z",
     "iopub.status.busy": "2025-01-31T14:57:33.076993Z",
     "iopub.status.idle": "2025-01-31T14:57:33.323048Z",
     "shell.execute_reply": "2025-01-31T14:57:33.322805Z",
     "shell.execute_reply.started": "2025-01-31T14:57:33.077131Z"
    }
   },
   "outputs": [
    {
     "data": {
      "text/plain": [
       "<Axes: >"
      ]
     },
     "execution_count": 24,
     "metadata": {},
     "output_type": "execute_result"
    },
    {
     "data": {
      "image/png": "[encoded data removed]",
      "text/plain": [
       "<Figure size 640x480 with 2 Axes>"
      ]
     },
     "metadata": {},
     "output_type": "display_data"
    }
   ],
   "source": [
    "# plot!\n",
    "knox_bg.plot(column=\"mc_prop_seg2\", legend=True)"
   ]
  }
 ],
 "metadata": {
  "kernelspec": {
   "display_name": "Python 3 (ipykernel)",
   "language": "python",
   "name": "python3"
  },
  "language_info": {
   "codemirror_mode": {
    "name": "ipython",
    "version": 3
   },
   "file_extension": ".py",
   "mimetype": "text/x-python",
   "name": "python",
   "nbconvert_exporter": "python",
   "pygments_lexer": "ipython3",
   "version": "3.12.8"
  }
 },
 "nbformat": 4,
 "nbformat_minor": 5
}
