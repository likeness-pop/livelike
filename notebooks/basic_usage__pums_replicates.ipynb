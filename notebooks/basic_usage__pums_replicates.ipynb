{
 "cells": [
  {
   "cell_type": "markdown",
   "id": "83603377",
   "metadata": {},
   "source": [
    "# Livelike Basic Usage Demo: PUMS Replicate Weights"
   ]
  },
  {
   "cell_type": "markdown",
   "id": "d6b9c2ac",
   "metadata": {
    "ExecuteTime": {
     "end_time": "2021-12-21T22:00:33.802859Z",
     "start_time": "2021-12-21T22:00:33.787329Z"
    }
   },
   "source": [
    "- ACS 2014 - 2019 5-Year Estimates\n",
    "- UP Baseline Constraints: employment, industry, occupation, education\n",
    "- Knox County, TN"
   ]
  },
  {
   "cell_type": "markdown",
   "id": "31c8adc1",
   "metadata": {},
   "source": [
    "## Setup"
   ]
  },
  {
   "cell_type": "code",
   "execution_count": 1,
   "id": "790889b1-9893-4610-b4f6-50fdf327f15d",
   "metadata": {
    "execution": {
     "iopub.execute_input": "2025-01-31T14:43:07.505104Z",
     "iopub.status.busy": "2025-01-31T14:43:07.504846Z",
     "iopub.status.idle": "2025-01-31T14:43:07.528331Z",
     "shell.execute_reply": "2025-01-31T14:43:07.527918Z",
     "shell.execute_reply.started": "2025-01-31T14:43:07.505083Z"
    }
   },
   "outputs": [
    {
     "name": "stdout",
     "output_type": "stream",
     "text": [
      "Last updated: 2025-01-31T09:43:07.518572-05:00\n",
      "\n",
      "Python implementation: CPython\n",
      "Python version       : 3.12.8\n",
      "IPython version      : 8.31.0\n",
      "\n",
      "Compiler    : Clang 18.1.8 \n",
      "OS          : Darwin\n",
      "Release     : 24.3.0\n",
      "Machine     : arm64\n",
      "Processor   : arm\n",
      "CPU cores   : 16\n",
      "Architecture: 64bit\n",
      "\n"
     ]
    }
   ],
   "source": [
    "%load_ext watermark\n",
    "%watermark"
   ]
  },
  {
   "cell_type": "code",
   "execution_count": 2,
   "id": "cdc254a9",
   "metadata": {
    "ExecuteTime": {
     "end_time": "2023-03-23T19:41:08.818600Z",
     "start_time": "2023-03-23T19:41:03.522562Z"
    },
    "execution": {
     "iopub.execute_input": "2025-01-31T14:43:07.529355Z",
     "iopub.status.busy": "2025-01-31T14:43:07.529036Z",
     "iopub.status.idle": "2025-01-31T14:43:08.677644Z",
     "shell.execute_reply": "2025-01-31T14:43:08.677375Z",
     "shell.execute_reply.started": "2025-01-31T14:43:07.529336Z"
    }
   },
   "outputs": [
    {
     "name": "stderr",
     "output_type": "stream",
     "text": [
      "/Users/41q/gitlab_repos/likeness/likeness-vitals/likeness_vitals/__init__.py:12: FutureWarning: The ``likeness-vitals`` package is transitioning to a modular API for a cleaner top-level namespace. Classes, functions, and attributes that are currently available in the top-level will only be available within their home modules. Both the current and the updated API will be in place for at least two minor releases following the inclusion of this warning. The release at the time of this warning inclusion was ``v1.3.0``, so the current API will be stable until ``v1.5.0`` at the soonest, and the ``v2.0.0`` release will be the absolute deadline. See [https://code.ornl.gov/likeness/likeness-vitals/-/issues/32] for details on how to update dependant packages.\n",
      "  warnings.warn(\n"
     ]
    },
    {
     "name": "stdout",
     "output_type": "stream",
     "text": [
      "Watermark: 2.5.0\n",
      "\n",
      "pymedm         : 2.1.1.dev4+g785edf4\n",
      "numpy          : 2.0.2\n",
      "pandas         : 2.2.3\n",
      "livelike       : 1.4.2\n",
      "geopandas      : 1.0.1\n",
      "likeness_vitals: 1.4.3.dev6+g2e663aa\n",
      "\n"
     ]
    }
   ],
   "source": [
    "import pathlib\n",
    "\n",
    "import geopandas as gpd\n",
    "import numpy as np\n",
    "import pandas as pd\n",
    "from likeness_vitals.vitals import get_censusapikey, match\n",
    "from pymedm import PMEDM, batch, diagnostics\n",
    "\n",
    "from livelike import acs, est, homesim, multi\n",
    "from livelike.utils import clear_acs_cache\n",
    "\n",
    "%watermark -w\n",
    "%watermark -iv"
   ]
  },
  {
   "cell_type": "markdown",
   "id": "52770288-45a9-4405-9a13-c32cfcb74592",
   "metadata": {
    "ExecuteTime": {
     "end_time": "2023-03-23T19:41:08.823366Z",
     "start_time": "2023-03-23T19:41:08.821111Z"
    },
    "scrolled": true
   },
   "source": [
    "### Read Census API Key"
   ]
  },
  {
   "cell_type": "code",
   "execution_count": 3,
   "id": "e822834c-337f-4142-9326-de70aa9886e3",
   "metadata": {
    "ExecuteTime": {
     "end_time": "2023-03-23T19:41:08.823366Z",
     "start_time": "2023-03-23T19:41:08.821111Z"
    },
    "execution": {
     "iopub.execute_input": "2025-01-31T14:43:08.678147Z",
     "iopub.status.busy": "2025-01-31T14:43:08.678063Z",
     "iopub.status.idle": "2025-01-31T14:43:08.680002Z",
     "shell.execute_reply": "2025-01-31T14:43:08.679788Z",
     "shell.execute_reply.started": "2025-01-31T14:43:08.678138Z"
    },
    "scrolled": true
   },
   "outputs": [],
   "source": [
    "key = get_censusapikey(pathlib.Path(\"..\", \"\"))"
   ]
  },
  {
   "cell_type": "markdown",
   "id": "e6ef2abb",
   "metadata": {},
   "source": [
    "### Create baseline PUMA representation\n",
    "\n",
    "The `puma` class stores a representation of the PUMA based on ACS constraints. It contains the microdata and block group/tract estimates and standard errors required for P-MEDM.\n",
    "\n",
    "**TODO**: It may be safer to generate 80 replicates every time, as [standard error estimation](https://usa.ipums.org/usa/repwt.shtml) relies on this. However, it's also much more computationally intensive. It's also not clear whether each synthetic population replicate really captures statistical variation in the PUMS, as P-MEDM does not preserve the sample weights. Is a bootstrapped approximation of the standard errors still valid? Need to chew on this for awhile..."
   ]
  },
  {
   "cell_type": "code",
   "execution_count": 4,
   "id": "3b8d6ecf",
   "metadata": {
    "ExecuteTime": {
     "end_time": "2023-03-23T19:41:08.949630Z",
     "start_time": "2023-03-23T19:41:08.939698Z"
    },
    "execution": {
     "iopub.execute_input": "2025-01-31T14:43:08.680405Z",
     "iopub.status.busy": "2025-01-31T14:43:08.680329Z",
     "iopub.status.idle": "2025-01-31T14:43:08.681821Z",
     "shell.execute_reply": "2025-01-31T14:43:08.681649Z",
     "shell.execute_reply.started": "2025-01-31T14:43:08.680396Z"
    }
   },
   "outputs": [],
   "source": [
    "puma = \"4701602\""
   ]
  },
  {
   "cell_type": "code",
   "execution_count": 5,
   "id": "e8180047",
   "metadata": {
    "ExecuteTime": {
     "end_time": "2023-03-23T19:41:33.072262Z",
     "start_time": "2023-03-23T19:41:08.951047Z"
    },
    "execution": {
     "iopub.execute_input": "2025-01-31T14:43:08.682240Z",
     "iopub.status.busy": "2025-01-31T14:43:08.682143Z",
     "iopub.status.idle": "2025-01-31T14:43:34.519259Z",
     "shell.execute_reply": "2025-01-31T14:43:34.518888Z",
     "shell.execute_reply.started": "2025-01-31T14:43:08.682234Z"
    }
   },
   "outputs": [],
   "source": [
    "mpu = multi.make_replicate_pumas(\n",
    "    puma,\n",
    "    nreps=5,\n",
    "    censusapikey=key,\n",
    "    cache_folder=\"replicate_demo_cache\",\n",
    ")"
   ]
  },
  {
   "cell_type": "code",
   "execution_count": 6,
   "id": "c560f5d1",
   "metadata": {
    "ExecuteTime": {
     "end_time": "2023-03-23T19:41:33.077720Z",
     "start_time": "2023-03-23T19:41:33.073852Z"
    },
    "execution": {
     "iopub.execute_input": "2025-01-31T14:43:34.520701Z",
     "iopub.status.busy": "2025-01-31T14:43:34.520618Z",
     "iopub.status.idle": "2025-01-31T14:43:34.523493Z",
     "shell.execute_reply": "2025-01-31T14:43:34.523282Z",
     "shell.execute_reply.started": "2025-01-31T14:43:34.520694Z"
    }
   },
   "outputs": [
    {
     "data": {
      "text/plain": [
       "{'4701602_5': <livelike.acs.puma at 0x1109bdf40>,\n",
       " '4701602_4': <livelike.acs.puma at 0x309cb4fe0>,\n",
       " '4701602_3': <livelike.acs.puma at 0x31aa42810>,\n",
       " '4701602_2': <livelike.acs.puma at 0x31a98d2e0>,\n",
       " '4701602_1': <livelike.acs.puma at 0x323747ad0>,\n",
       " '4701602_0': <livelike.acs.puma at 0x31b52f170>}"
      ]
     },
     "execution_count": 6,
     "metadata": {},
     "output_type": "execute_result"
    }
   ],
   "source": [
    "mpu"
   ]
  },
  {
   "cell_type": "code",
   "execution_count": 7,
   "id": "88c284a9",
   "metadata": {
    "ExecuteTime": {
     "end_time": "2023-03-23T19:47:11.639255Z",
     "start_time": "2023-03-23T19:42:28.824554Z"
    },
    "execution": {
     "iopub.execute_input": "2025-01-31T14:43:34.523862Z",
     "iopub.status.busy": "2025-01-31T14:43:34.523797Z",
     "iopub.status.idle": "2025-01-31T14:43:56.657136Z",
     "shell.execute_reply": "2025-01-31T14:43:56.656704Z",
     "shell.execute_reply.started": "2025-01-31T14:43:34.523854Z"
    }
   },
   "outputs": [],
   "source": [
    "pmds = batch.batch_solve(mpu)"
   ]
  },
  {
   "cell_type": "code",
   "execution_count": 8,
   "id": "b577a4b1",
   "metadata": {
    "ExecuteTime": {
     "end_time": "2023-03-23T19:47:11.647788Z",
     "start_time": "2023-03-23T19:47:11.642656Z"
    },
    "execution": {
     "iopub.execute_input": "2025-01-31T14:43:56.657531Z",
     "iopub.status.busy": "2025-01-31T14:43:56.657458Z",
     "iopub.status.idle": "2025-01-31T14:43:56.659649Z",
     "shell.execute_reply": "2025-01-31T14:43:56.659415Z",
     "shell.execute_reply.started": "2025-01-31T14:43:56.657524Z"
    }
   },
   "outputs": [
    {
     "data": {
      "text/plain": [
       "{'4701602_5': <pymedm.pmedm.PMEDM at 0x31aa54290>,\n",
       " '4701602_4': <pymedm.pmedm.PMEDM at 0x31a4e2480>,\n",
       " '4701602_3': <pymedm.pmedm.PMEDM at 0x31a4e0410>,\n",
       " '4701602_2': <pymedm.pmedm.PMEDM at 0x31a4e0050>,\n",
       " '4701602_1': <pymedm.pmedm.PMEDM at 0x32365fc20>,\n",
       " '4701602_0': <pymedm.pmedm.PMEDM at 0x32365e900>}"
      ]
     },
     "execution_count": 8,
     "metadata": {},
     "output_type": "execute_result"
    }
   ],
   "source": [
    "pmds"
   ]
  },
  {
   "cell_type": "code",
   "execution_count": 9,
   "id": "a4f3612a-9fa0-4974-8002-5629e7666845",
   "metadata": {
    "execution": {
     "iopub.execute_input": "2025-01-31T14:43:56.659989Z",
     "iopub.status.busy": "2025-01-31T14:43:56.659924Z",
     "iopub.status.idle": "2025-01-31T14:43:56.661786Z",
     "shell.execute_reply": "2025-01-31T14:43:56.661584Z",
     "shell.execute_reply.started": "2025-01-31T14:43:56.659983Z"
    }
   },
   "outputs": [
    {
     "name": "stdout",
     "output_type": "stream",
     "text": [
      "puma_replicate='4701602_5': -1.2863682423685434\n",
      "puma_replicate='4701602_4': -1.2705805691116385\n",
      "puma_replicate='4701602_3': -1.2834165796559245\n",
      "puma_replicate='4701602_2': -1.281641025577804\n",
      "puma_replicate='4701602_1': -1.2854840117248447\n",
      "puma_replicate='4701602_0': -1.2538384403196665\n"
     ]
    }
   ],
   "source": [
    "# objective values\n",
    "for puma_replicate, pmd in pmds.items():\n",
    "    print(f\"{puma_replicate=}: {pmd.res.state.value}\")"
   ]
  },
  {
   "cell_type": "markdown",
   "id": "5e9c94d0",
   "metadata": {},
   "source": [
    "### Diagnostics\n",
    "\n",
    "As a quick diagnostic, we measure the proportion of synthetic constraint estimates fitting the ACS 90% margins of error (MOEs), or the \"moe_fit_rate\":"
   ]
  },
  {
   "cell_type": "code",
   "execution_count": 10,
   "id": "da70b0f2",
   "metadata": {
    "ExecuteTime": {
     "end_time": "2023-03-23T19:47:14.569337Z",
     "start_time": "2023-03-23T19:47:11.650306Z"
    },
    "execution": {
     "iopub.execute_input": "2025-01-31T14:43:56.662203Z",
     "iopub.status.busy": "2025-01-31T14:43:56.662130Z",
     "iopub.status.idle": "2025-01-31T14:43:56.883396Z",
     "shell.execute_reply": "2025-01-31T14:43:56.883172Z",
     "shell.execute_reply.started": "2025-01-31T14:43:56.662195Z"
    }
   },
   "outputs": [
    {
     "name": "stdout",
     "output_type": "stream",
     "text": [
      "PUMA 4701602_5: 0.9996\n",
      "PUMA 4701602_4: 0.9996\n",
      "PUMA 4701602_3: 0.9996\n",
      "PUMA 4701602_2: 0.9996\n",
      "PUMA 4701602_1: 0.9996\n",
      "PUMA 4701602_0: 0.9996\n"
     ]
    }
   ],
   "source": [
    "for p in mpu:\n",
    "    mfr = diagnostics.moe_fit_rate(\n",
    "        mpu[p].est_ind, mpu[p].est_g2, mpu[p].se_g2, pmds[p].almat\n",
    "    )\n",
    "\n",
    "    print(\"PUMA \" + p + \": \" + str(np.round(mfr[\"moe_fit_rate\"], 4)))"
   ]
  },
  {
   "cell_type": "markdown",
   "id": "9dc14fdc",
   "metadata": {},
   "source": [
    "## Population Synthesis\n",
    "\n",
    "Use Lovelace and Ballas' (2013) \"Truncate, Replicate, Sample\" method to create 1 realization of the residential synthetic population per replicate:"
   ]
  },
  {
   "cell_type": "code",
   "execution_count": 11,
   "id": "1fdd851d-0c07-416f-884c-7179817b65ee",
   "metadata": {
    "ExecuteTime": {
     "end_time": "2023-03-23T19:47:16.018242Z",
     "start_time": "2023-03-23T19:47:14.572018Z"
    },
    "execution": {
     "iopub.execute_input": "2025-01-31T14:43:56.883888Z",
     "iopub.status.busy": "2025-01-31T14:43:56.883815Z",
     "iopub.status.idle": "2025-01-31T14:43:57.882549Z",
     "shell.execute_reply": "2025-01-31T14:43:57.882223Z",
     "shell.execute_reply.started": "2025-01-31T14:43:56.883882Z"
    }
   },
   "outputs": [],
   "source": [
    "hs = multi.synthesize_multi(mpu, pmds, nsim=1)"
   ]
  },
  {
   "cell_type": "code",
   "execution_count": 12,
   "id": "40874944-7211-4eba-9bc9-5f35add054b1",
   "metadata": {
    "ExecuteTime": {
     "end_time": "2023-03-23T19:47:16.018242Z",
     "start_time": "2023-03-23T19:47:14.572018Z"
    },
    "execution": {
     "iopub.execute_input": "2025-01-31T14:43:57.883016Z",
     "iopub.status.busy": "2025-01-31T14:43:57.882928Z",
     "iopub.status.idle": "2025-01-31T14:43:57.887533Z",
     "shell.execute_reply": "2025-01-31T14:43:57.887338Z",
     "shell.execute_reply.started": "2025-01-31T14:43:57.883008Z"
    }
   },
   "outputs": [
    {
     "data": {
      "text/html": [
       "<div>\n",
       "<style scoped>\n",
       "    .dataframe tbody tr th:only-of-type {\n",
       "        vertical-align: middle;\n",
       "    }\n",
       "\n",
       "    .dataframe tbody tr th {\n",
       "        vertical-align: top;\n",
       "    }\n",
       "\n",
       "    .dataframe thead th {\n",
       "        text-align: right;\n",
       "    }\n",
       "</style>\n",
       "<table border=\"1\" class=\"dataframe\">\n",
       "  <thead>\n",
       "    <tr style=\"text-align: right;\">\n",
       "      <th></th>\n",
       "      <th>sim</th>\n",
       "      <th>geoid</th>\n",
       "      <th>count</th>\n",
       "      <th>replicate</th>\n",
       "    </tr>\n",
       "    <tr>\n",
       "      <th>h_id</th>\n",
       "      <th></th>\n",
       "      <th></th>\n",
       "      <th></th>\n",
       "      <th></th>\n",
       "    </tr>\n",
       "  </thead>\n",
       "  <tbody>\n",
       "    <tr>\n",
       "      <th>2015000038596</th>\n",
       "      <td>0</td>\n",
       "      <td>470930049001</td>\n",
       "      <td>1</td>\n",
       "      <td>4701602_5</td>\n",
       "    </tr>\n",
       "    <tr>\n",
       "      <th>2015000064675</th>\n",
       "      <td>0</td>\n",
       "      <td>470930049001</td>\n",
       "      <td>2</td>\n",
       "      <td>4701602_5</td>\n",
       "    </tr>\n",
       "    <tr>\n",
       "      <th>2015000067973</th>\n",
       "      <td>0</td>\n",
       "      <td>470930049001</td>\n",
       "      <td>2</td>\n",
       "      <td>4701602_5</td>\n",
       "    </tr>\n",
       "    <tr>\n",
       "      <th>2015000079640</th>\n",
       "      <td>0</td>\n",
       "      <td>470930049001</td>\n",
       "      <td>1</td>\n",
       "      <td>4701602_5</td>\n",
       "    </tr>\n",
       "    <tr>\n",
       "      <th>2015000087870</th>\n",
       "      <td>0</td>\n",
       "      <td>470930049001</td>\n",
       "      <td>2</td>\n",
       "      <td>4701602_5</td>\n",
       "    </tr>\n",
       "    <tr>\n",
       "      <th>...</th>\n",
       "      <td>...</td>\n",
       "      <td>...</td>\n",
       "      <td>...</td>\n",
       "      <td>...</td>\n",
       "    </tr>\n",
       "    <tr>\n",
       "      <th>2019HU1388193</th>\n",
       "      <td>0</td>\n",
       "      <td>470930065022</td>\n",
       "      <td>1</td>\n",
       "      <td>4701602_0</td>\n",
       "    </tr>\n",
       "    <tr>\n",
       "      <th>2019HU1396891</th>\n",
       "      <td>0</td>\n",
       "      <td>470930065022</td>\n",
       "      <td>1</td>\n",
       "      <td>4701602_0</td>\n",
       "    </tr>\n",
       "    <tr>\n",
       "      <th>2019HU1400850</th>\n",
       "      <td>0</td>\n",
       "      <td>470930065022</td>\n",
       "      <td>2</td>\n",
       "      <td>4701602_0</td>\n",
       "    </tr>\n",
       "    <tr>\n",
       "      <th>2019HU1403496</th>\n",
       "      <td>0</td>\n",
       "      <td>470930065022</td>\n",
       "      <td>1</td>\n",
       "      <td>4701602_0</td>\n",
       "    </tr>\n",
       "    <tr>\n",
       "      <th>2019HU1405178</th>\n",
       "      <td>0</td>\n",
       "      <td>470930065022</td>\n",
       "      <td>1</td>\n",
       "      <td>4701602_0</td>\n",
       "    </tr>\n",
       "  </tbody>\n",
       "</table>\n",
       "<p>176174 rows × 4 columns</p>\n",
       "</div>"
      ],
      "text/plain": [
       "               sim         geoid  count  replicate\n",
       "h_id                                              \n",
       "2015000038596    0  470930049001      1  4701602_5\n",
       "2015000064675    0  470930049001      2  4701602_5\n",
       "2015000067973    0  470930049001      2  4701602_5\n",
       "2015000079640    0  470930049001      1  4701602_5\n",
       "2015000087870    0  470930049001      2  4701602_5\n",
       "...            ...           ...    ...        ...\n",
       "2019HU1388193    0  470930065022      1  4701602_0\n",
       "2019HU1396891    0  470930065022      1  4701602_0\n",
       "2019HU1400850    0  470930065022      2  4701602_0\n",
       "2019HU1403496    0  470930065022      1  4701602_0\n",
       "2019HU1405178    0  470930065022      1  4701602_0\n",
       "\n",
       "[176174 rows x 4 columns]"
      ]
     },
     "execution_count": 12,
     "metadata": {},
     "output_type": "execute_result"
    }
   ],
   "source": [
    "hs"
   ]
  }
 ],
 "metadata": {
  "kernelspec": {
   "display_name": "Python 3 (ipykernel)",
   "language": "python",
   "name": "python3"
  },
  "language_info": {
   "codemirror_mode": {
    "name": "ipython",
    "version": 3
   },
   "file_extension": ".py",
   "mimetype": "text/x-python",
   "name": "python",
   "nbconvert_exporter": "python",
   "pygments_lexer": "ipython3",
   "version": "3.12.8"
  }
 },
 "nbformat": 4,
 "nbformat_minor": 5
}
