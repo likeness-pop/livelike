{
 "cells": [
  {
   "cell_type": "code",
   "execution_count": null,
   "metadata": {},
   "outputs": [],
   "source": [
    "import os\n",
    "\n",
    "import geopandas\n",
    "import numpy\n",
    "import pandas\n",
    "from likeness_vitals.vitals import get_censusapikey\n",
    "\n",
    "from livelike import acs, make_supertracts, select_constraints\n",
    "from livelike.config import constraints, up_base_constraints_selection"
   ]
  },
  {
   "cell_type": "code",
   "execution_count": null,
   "metadata": {},
   "outputs": [],
   "source": [
    "censusapikey = get_censusapikey(\"../\")"
   ]
  },
  {
   "cell_type": "code",
   "execution_count": null,
   "metadata": {},
   "outputs": [],
   "source": [
    "# # P-MEDM constraints – base\n",
    "year = 2019\n",
    "constraints = constraints.loc[\n",
    "    (constraints.begin_year <= year) & (constraints.end_year >= year)\n",
    "]\n",
    "constraints = select_constraints(constraints, up_base_constraints_selection)"
   ]
  },
  {
   "cell_type": "code",
   "execution_count": null,
   "metadata": {},
   "outputs": [],
   "source": [
    "pup_louvain = acs.puma(\n",
    "    \"4701603\",\n",
    "    constraints.copy(),\n",
    "    target_zone=\"trt\",\n",
    "    keep_geo=True,\n",
    "    censusapikey=censusapikey,\n",
    "    make_super_trt_method=\"louvain\",\n",
    ")"
   ]
  },
  {
   "cell_type": "code",
   "execution_count": null,
   "metadata": {},
   "outputs": [],
   "source": [
    "# not sure how this was made\n",
    "# pup_louvain_few_constrs_universe_constrs = None"
   ]
  },
  {
   "cell_type": "code",
   "execution_count": null,
   "metadata": {},
   "outputs": [],
   "source": [
    "sf_data = pup_louvain.geo.copy()\n",
    "sf_data[\"population\"] = range(1, sf_data.shape[0] + 1)\n",
    "sf_data = sf_data.drop(columns=[c for c in sf_data.columns if c != \"population\"])\n",
    "# sf_data"
   ]
  },
  {
   "cell_type": "code",
   "execution_count": null,
   "metadata": {},
   "outputs": [],
   "source": [
    "pup_louvain_few_constrt_universe_constrs = pup_louvain.geo.copy().drop(\n",
    "    columns=\"super_trt\"\n",
    ")\n",
    "pup_louvain_few_constrt_universe_constrs[\"super_trt\"] = make_supertracts(\n",
    "    pup_louvain_few_constrt_universe_constrs,\n",
    "    sf_data,\n",
    "    exclude_universe_constraints=False,\n",
    "    method=\"louvain\",\n",
    ")"
   ]
  },
  {
   "cell_type": "code",
   "execution_count": null,
   "metadata": {},
   "outputs": [],
   "source": [
    "gpkg =  \"../livelike/tests/super_tract_expected/super_tract_expected.gpkg\""
   ]
  },
  {
   "cell_type": "code",
   "execution_count": null,
   "metadata": {},
   "outputs": [],
   "source": [
    "# the temp file needs to be zipped and copied to `tests/super_tract_expected`\n",
    "pup_louvain.geo.to_file(gpkg, layer=\"louvain\")\n",
    "pup_louvain_few_constrt_universe_constrs.to_file(\n",
    "    gpkg, layer=\"louvain_few_constrs_universe_constrs\"\n",
    ")"
   ]
  }
 ],
 "metadata": {
  "kernelspec": {
   "display_name": "Python 3 (ipykernel)",
   "language": "python",
   "name": "python3"
  },
  "language_info": {
   "codemirror_mode": {
    "name": "ipython",
    "version": 3
   },
   "file_extension": ".py",
   "mimetype": "text/x-python",
   "name": "python",
   "nbconvert_exporter": "python",
   "pygments_lexer": "ipython3",
   "version": "3.12.5"
  }
 },
 "nbformat": 4,
 "nbformat_minor": 4
}
